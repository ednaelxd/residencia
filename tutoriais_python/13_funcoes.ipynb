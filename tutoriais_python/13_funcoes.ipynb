{
 "cells": [
  {
   "cell_type": "markdown",
   "metadata": {},
   "source": [
    "# Curso de Python Básico\n",
    "\n",
    "Este é um curso básico de python que tem o objetivo de apresentar a linguagem python de uma **maneira rápida e objetiva**. Vamos direto ao ponto nos conceitos básicos da programação e python com muita mão na massa! \n",
    "\n",
    "Neste curso, vamos trabalhar no **modo iterativo** do python. Porém, entenda que você pode trabalhar no modo script com várias linhas de código usando um arquivo no formato .py.\n",
    "\n",
    "Ao final desse Curso, espero que você se aprenda python e se motive cada vez mais em utilizar a linguagem para diversas tarefas e problemas do mundo real.\n",
    "\n",
    "Este notebook vai apenas passar pelos tópicos básicos em ordem:\n",
    "\n",
    "* 7. funções\n",
    "    * 7.1 Funções SEM retorno\n",
    "    * 7.2 Funções COM retorno\n",
    "    * 7.3 Funções anônimas (lambda)\n",
    "    * 7.4 map e filter\n",
    "  "
   ]
  },
  {
   "cell_type": "markdown",
   "metadata": {},
   "source": [
    "## 7. Funções\n",
    "##### 7.1 Funções SEM retorno"
   ]
  },
  {
   "cell_type": "code",
   "execution_count": null,
   "metadata": {
    "ExecuteTime": {
     "end_time": "2021-08-27T14:51:51.146269Z",
     "start_time": "2021-08-27T14:51:51.131270Z"
    }
   },
   "outputs": [],
   "source": [
    "def nome_da_funcao():\n",
    "    print('primeira funcao')"
   ]
  },
  {
   "cell_type": "code",
   "execution_count": null,
   "metadata": {
    "ExecuteTime": {
     "end_time": "2021-08-27T14:51:52.655160Z",
     "start_time": "2021-08-27T14:51:52.644163Z"
    }
   },
   "outputs": [],
   "source": [
    "nome_da_funcao()"
   ]
  },
  {
   "cell_type": "code",
   "execution_count": null,
   "metadata": {
    "ExecuteTime": {
     "end_time": "2021-08-27T14:55:13.139128Z",
     "start_time": "2021-08-27T14:55:13.026132Z"
    }
   },
   "outputs": [],
   "source": [
    "imprimir('novo parametro')"
   ]
  },
  {
   "cell_type": "code",
   "execution_count": null,
   "metadata": {
    "ExecuteTime": {
     "end_time": "2021-08-27T14:55:13.307456Z",
     "start_time": "2021-08-27T14:55:13.289454Z"
    }
   },
   "outputs": [],
   "source": [
    "imprimir(param1='novo parametro')"
   ]
  },
  {
   "cell_type": "markdown",
   "metadata": {
    "ExecuteTime": {
     "end_time": "2021-08-27T14:56:09.337667Z",
     "start_time": "2021-08-27T14:56:09.322667Z"
    }
   },
   "source": [
    "##### 7.2 Funções COM retorno"
   ]
  },
  {
   "cell_type": "code",
   "execution_count": null,
   "metadata": {
    "ExecuteTime": {
     "end_time": "2021-08-27T14:55:22.885139Z",
     "start_time": "2021-08-27T14:55:22.876139Z"
    }
   },
   "outputs": [],
   "source": [
    "def soma(a, b):\n",
    "    return a+b"
   ]
  },
  {
   "cell_type": "code",
   "execution_count": null,
   "metadata": {
    "ExecuteTime": {
     "end_time": "2021-08-27T14:55:28.880117Z",
     "start_time": "2021-08-27T14:55:28.874118Z"
    }
   },
   "outputs": [],
   "source": [
    "valor = soma(10, 5)"
   ]
  },
  {
   "cell_type": "code",
   "execution_count": null,
   "metadata": {
    "ExecuteTime": {
     "end_time": "2021-08-27T14:55:34.357051Z",
     "start_time": "2021-08-27T14:55:34.347050Z"
    }
   },
   "outputs": [],
   "source": [
    "def square(x):\n",
    "    return x**0.5"
   ]
  },
  {
   "cell_type": "code",
   "execution_count": null,
   "metadata": {
    "ExecuteTime": {
     "end_time": "2021-08-27T14:55:39.562599Z",
     "start_time": "2021-08-27T14:55:39.546610Z"
    }
   },
   "outputs": [],
   "source": [
    "out = square(25)"
   ]
  },
  {
   "cell_type": "markdown",
   "metadata": {},
   "source": [
    "##### 7.3 Funções anônimas (lambda)"
   ]
  },
  {
   "cell_type": "code",
   "execution_count": null,
   "metadata": {
    "ExecuteTime": {
     "end_time": "2021-08-27T14:56:56.017670Z",
     "start_time": "2021-08-27T14:56:56.001671Z"
    }
   },
   "outputs": [],
   "source": [
    "def multiplique_por_dois(numero):\n",
    "    return numero*2"
   ]
  },
  {
   "cell_type": "code",
   "execution_count": null,
   "metadata": {
    "ExecuteTime": {
     "end_time": "2021-08-27T14:57:05.685637Z",
     "start_time": "2021-08-27T14:57:05.666640Z"
    }
   },
   "outputs": [],
   "source": [
    "multiplique_por_dois(10)"
   ]
  },
  {
   "cell_type": "code",
   "execution_count": null,
   "metadata": {
    "ExecuteTime": {
     "end_time": "2021-08-27T16:53:50.260971Z",
     "start_time": "2021-08-27T16:53:50.256974Z"
    }
   },
   "outputs": [],
   "source": [
    "multiplique_dois = lambda x: x * 2"
   ]
  },
  {
   "cell_type": "code",
   "execution_count": null,
   "metadata": {
    "ExecuteTime": {
     "end_time": "2021-08-27T16:53:54.606455Z",
     "start_time": "2021-08-27T16:53:54.582456Z"
    }
   },
   "outputs": [],
   "source": [
    "multiplique_dois(5)"
   ]
  },
  {
   "cell_type": "code",
   "execution_count": null,
   "metadata": {
    "ExecuteTime": {
     "end_time": "2021-08-27T16:54:14.989408Z",
     "start_time": "2021-08-27T16:54:14.982412Z"
    }
   },
   "outputs": [],
   "source": [
    "calcule_potencia = lambda potencia: potencia ** 2"
   ]
  },
  {
   "cell_type": "code",
   "execution_count": null,
   "metadata": {
    "ExecuteTime": {
     "end_time": "2021-08-27T16:54:20.055806Z",
     "start_time": "2021-08-27T16:54:20.046806Z"
    }
   },
   "outputs": [],
   "source": [
    "calcule_potencia(3)"
   ]
  },
  {
   "cell_type": "code",
   "execution_count": null,
   "metadata": {
    "ExecuteTime": {
     "end_time": "2021-08-27T16:54:48.391827Z",
     "start_time": "2021-08-27T16:54:48.381827Z"
    }
   },
   "outputs": [],
   "source": [
    "soma = lambda a, b, c : a + b + c"
   ]
  },
  {
   "cell_type": "code",
   "execution_count": null,
   "metadata": {
    "ExecuteTime": {
     "end_time": "2021-08-27T16:54:55.306060Z",
     "start_time": "2021-08-27T16:54:55.294062Z"
    }
   },
   "outputs": [],
   "source": [
    "soma(1,2,3)"
   ]
  },
  {
   "cell_type": "markdown",
   "metadata": {},
   "source": [
    "#### 7.4 Variáveis Globais"
   ]
  },
  {
   "cell_type": "code",
   "execution_count": 2,
   "metadata": {},
   "outputs": [
    {
     "ename": "NameError",
     "evalue": "name 'name' is not defined",
     "output_type": "error",
     "traceback": [
      "\u001b[1;31m---------------------------------------------------------------------------\u001b[0m",
      "\u001b[1;31mNameError\u001b[0m                                 Traceback (most recent call last)",
      "\u001b[1;32m<ipython-input-2-ba331e54800f>\u001b[0m in \u001b[0;36m<module>\u001b[1;34m\u001b[0m\n\u001b[0;32m      6\u001b[0m \u001b[1;33m\u001b[0m\u001b[0m\n\u001b[0;32m      7\u001b[0m \u001b[0mprofile\u001b[0m\u001b[1;33m(\u001b[0m\u001b[1;33m)\u001b[0m\u001b[1;33m\u001b[0m\u001b[1;33m\u001b[0m\u001b[0m\n\u001b[1;32m----> 8\u001b[1;33m \u001b[0mprint\u001b[0m\u001b[1;33m(\u001b[0m\u001b[0mname\u001b[0m\u001b[1;33m)\u001b[0m\u001b[1;33m\u001b[0m\u001b[1;33m\u001b[0m\u001b[0m\n\u001b[0m\u001b[0;32m      9\u001b[0m \u001b[1;31m# Output: Danny\u001b[0m\u001b[1;33m\u001b[0m\u001b[1;33m\u001b[0m\u001b[1;33m\u001b[0m\u001b[0m\n\u001b[0;32m     10\u001b[0m \u001b[1;33m\u001b[0m\u001b[0m\n",
      "\u001b[1;31mNameError\u001b[0m: name 'name' is not defined"
     ]
    }
   ],
   "source": [
    "def profile():\n",
    "    #global name\n",
    "    #global age\n",
    "    name = \"Danny\"\n",
    "    age = 30\n",
    "\n",
    "profile()\n",
    "print(name)\n",
    "# Output: Danny\n",
    "\n",
    "print(age)\n",
    "# Output: 30"
   ]
  },
  {
   "cell_type": "code",
   "execution_count": null,
   "metadata": {},
   "outputs": [],
   "source": []
  },
  {
   "cell_type": "markdown",
   "metadata": {},
   "source": [
    "## Agora é sua vez"
   ]
  },
  {
   "cell_type": "markdown",
   "metadata": {
    "ExecuteTime": {
     "end_time": "2021-09-27T19:12:27.152396Z",
     "start_time": "2021-09-27T19:12:27.132411Z"
    }
   },
   "source": [
    "**1) Crie uma função que irá receber 3 notas e fornecerá como saída o resultado da média dessas notas**"
   ]
  },
  {
   "cell_type": "code",
   "execution_count": null,
   "metadata": {},
   "outputs": [],
   "source": []
  },
  {
   "cell_type": "markdown",
   "metadata": {
    "ExecuteTime": {
     "end_time": "2021-09-27T19:12:46.277155Z",
     "start_time": "2021-09-27T19:12:46.267155Z"
    }
   },
   "source": [
    "**2) Crie uma função que irá receber um número e a saída é a sequência de fibonnaci  notas e fornecerá como saída o resultado da média dessas notas**"
   ]
  },
  {
   "cell_type": "code",
   "execution_count": null,
   "metadata": {},
   "outputs": [],
   "source": []
  }
 ],
 "metadata": {
  "kernelspec": {
   "display_name": "Python 3",
   "language": "python",
   "name": "python3"
  },
  "language_info": {
   "codemirror_mode": {
    "name": "ipython",
    "version": 3
   },
   "file_extension": ".py",
   "mimetype": "text/x-python",
   "name": "python",
   "nbconvert_exporter": "python",
   "pygments_lexer": "ipython3",
   "version": "3.8.11"
  }
 },
 "nbformat": 4,
 "nbformat_minor": 1
}
