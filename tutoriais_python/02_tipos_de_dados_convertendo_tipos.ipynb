{
 "cells": [
  {
   "cell_type": "markdown",
   "metadata": {},
   "source": [
    "# Curso de Python Básico\n",
    "\n",
    "Este é um curso básico de python que tem o objetivo de apresentar a linguagem python de uma **maneira rápida e objetiva**. Vamos direto ao ponto nos conceitos básicos da programação e python com muita mão na massa! \n",
    "\n",
    "Neste curso, vamos trabalhar no **modo iterativo** do python. Porém, entenda que você pode trabalhar no modo script com várias linhas de código usando um arquivo no formato .py.\n",
    "\n",
    "Ao final desse Curso, espero que você se aprenda python e se motive cada vez mais em utilizar a linguagem para diversas tarefas e problemas do mundo real.\n",
    "\n",
    "Este notebook vai apenas passar pelos tópicos básicos em ordem:\n",
    "\n",
    "* 1. Conceitos Básicos\n",
    "    * 1.1 Variáveis\n",
    "    * 1.2 Comentários\n",
    "    * 1.3 Expressões\n",
    "    * 1.4 Imprimindo Valores\n",
    "    * 1.5 Tipos de dados\n",
    "        * 1.4.1 Inteiro\n",
    "        * 1.4.2 Float\n",
    "        * 1.4.3 String\n",
    "        * 1.4.4 Boelano\n",
    "        * 1.4.5 Nulo\n",
    "    * 1.6 Verificando e Modificando os diferentes Tipos de Dados\n",
    "    * 1.7 Operadores Aritméticos\n",
    "* 2. Estrutura de dados\n",
    "    * 2.1 Listas\n",
    "    * 2.2 Dicionários\n",
    "    * 2.3 Tuplas\n",
    "    * 2.4 Sets\n",
    "* 3. Operadores de comparação\n",
    "    * 3.1 Maior que\n",
    "    * 3.2 Menor que\n",
    "    * 3.3 Maior ou igual que\n",
    "    * 3.4 Menor ou igual que\n",
    "    * 3.5 Igual a\n",
    "    * 3.6 Diferente de\n",
    "    * 3.7 Pertence \n",
    "    * 3.8 Negação\n",
    "* 4. Operadores Lógicos\n",
    "    * 4.1 and\n",
    "    * 4.2 or\n",
    "* 5. Estrutura condicionais\n",
    "    * 5.1 if\n",
    "    * 5.2 else\n",
    "    * 5.3 elif\n",
    "* 6. Estrutura de Repetição\n",
    "    * 6.1 for \n",
    "    * 6.2 range\n",
    "    * 6.3 while \n",
    "    * 6.4 while-else\n",
    "    * 6.5 break\n",
    "\n",
    "* 7. funções\n",
    "    * 7.1 Funções SEM retorno\n",
    "    * 7.2 Funções COM retorno\n",
    "    * 7.3 Funções anônimas (lambda)\n",
    "    * 7.4 map e filter\n",
    "* 8. Python intermediário\n",
    "    * 8.1 List Comprehension\n",
    "    * 8.2 Generators\n",
    "    * 8.3 Tratando erros em Python\n",
    "    * 8.4 Lidando com String\n",
    "    * 8.5 Lidando com datas e tempo\n",
    "\n",
    "* 9. Python Orientação a Objetos\n",
    "    * 9.1 Classes e Objetos\n",
    "    * 9.2 Instância\n",
    "    * 9.3 Atributos\n",
    "    * 9.4 Construtor\n",
    "    * 9.5 Herança\n",
    "    * 9.6 Polimofismo\n",
    "  "
   ]
  },
  {
   "cell_type": "markdown",
   "metadata": {},
   "source": [
    "##  1. Conceitos Básicos"
   ]
  },
  {
   "cell_type": "markdown",
   "metadata": {},
   "source": [
    "#### 1.5. Tipos de dados\n",
    "- Inteiro\n",
    "- Float\n",
    "- Boleano\n",
    "- String\n",
    "- Nulo"
   ]
  },
  {
   "cell_type": "code",
   "execution_count": null,
   "metadata": {},
   "outputs": [],
   "source": [
    "# Int\n",
    "numero = 1"
   ]
  },
  {
   "cell_type": "code",
   "execution_count": null,
   "metadata": {},
   "outputs": [],
   "source": [
    "# Float\n",
    "numero = 1.0"
   ]
  },
  {
   "cell_type": "code",
   "execution_count": null,
   "metadata": {},
   "outputs": [],
   "source": [
    "# String\n",
    "texto = \"'Python é fácil'\"\n",
    "# 'Citação simples'\n",
    "# \"Citações duplas\""
   ]
  },
  {
   "cell_type": "code",
   "execution_count": null,
   "metadata": {},
   "outputs": [],
   "source": [
    "# Boleano\n",
    "brasileiro = True"
   ]
  },
  {
   "cell_type": "code",
   "execution_count": null,
   "metadata": {},
   "outputs": [],
   "source": [
    "# Nulo\n",
    "dado = None"
   ]
  },
  {
   "cell_type": "code",
   "execution_count": null,
   "metadata": {},
   "outputs": [],
   "source": [
    "valor = '25'"
   ]
  },
  {
   "cell_type": "markdown",
   "metadata": {},
   "source": [
    "#### 1.6 Verificando e modificando os tipos de dados"
   ]
  },
  {
   "cell_type": "code",
   "execution_count": null,
   "metadata": {
    "ExecuteTime": {
     "end_time": "2021-08-27T12:57:20.533380Z",
     "start_time": "2021-08-27T12:57:20.417383Z"
    }
   },
   "outputs": [],
   "source": [
    "# Consultando tipos de dados\n",
    "type(dado)"
   ]
  },
  {
   "cell_type": "code",
   "execution_count": null,
   "metadata": {},
   "outputs": [],
   "source": [
    "# Convertendo tipos de dados\n",
    "int(numero)"
   ]
  },
  {
   "cell_type": "code",
   "execution_count": null,
   "metadata": {},
   "outputs": [],
   "source": []
  },
  {
   "cell_type": "code",
   "execution_count": null,
   "metadata": {},
   "outputs": [],
   "source": []
  },
  {
   "cell_type": "markdown",
   "metadata": {},
   "source": [
    "## Agora é sua vez\n",
    "\n",
    "1) Crie um programa que receberá nome, idade, salário e brasileiro. o nome é uma variável String, a idade é uma variável inteira, o salário é uma variável float e brasileiro é uma variável boleana. \n",
    "\n",
    "2) Converta o a variável idade para float e a variável brasileiro para string.\n",
    "\n",
    "3) Verifique o tipo de cada variável e imprima os valores e seus tipos conforme a saída abaixo:\n",
    "\n",
    "**Saída:** \n",
    "- 'a variável idade é do tipo: {TIPO_DA_VARIAVEL}'\n",
    "- 'a variável brasileiro é do tipo: {TIPO_DA_VARIAVEL}'\n",
    "- 'a variável nome é do tipo: {TIPO_DA_VARIAVEL}'"
   ]
  },
  {
   "cell_type": "code",
   "execution_count": null,
   "metadata": {},
   "outputs": [],
   "source": []
  },
  {
   "cell_type": "code",
   "execution_count": null,
   "metadata": {},
   "outputs": [],
   "source": []
  }
 ],
 "metadata": {
  "kernelspec": {
   "display_name": "Python 3",
   "language": "python",
   "name": "python3"
  },
  "language_info": {
   "codemirror_mode": {
    "name": "ipython",
    "version": 3
   },
   "file_extension": ".py",
   "mimetype": "text/x-python",
   "name": "python",
   "nbconvert_exporter": "python",
   "pygments_lexer": "ipython3",
   "version": "3.8.11"
  }
 },
 "nbformat": 4,
 "nbformat_minor": 1
}
