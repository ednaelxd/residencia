{
 "cells": [
  {
   "cell_type": "markdown",
   "source": [
    "# Curso de Python Básico\n",
    "\n",
    "Este é um curso básico de python que tem o objetivo de apresentar a linguagem python de uma **maneira rápida e objetiva**. Vamos direto ao ponto nos conceitos básicos da programação e python com muita mão na massa! \n",
    "\n",
    "Neste curso, vamos trabalhar no **modo iterativo** do python. Porém, entenda que você pode trabalhar no modo script com várias linhas de código usando um arquivo no formato .py.\n",
    "\n",
    "Ao final desse Curso, espero que você se aprenda python e se motive cada vez mais em utilizar a linguagem para diversas tarefas e problemas do mundo real.\n",
    "\n",
    "Este notebook vai apenas passar pelos tópicos básicos em ordem:\n",
    "\n",
    "* 1. Conceitos Básicos\n",
    "    * 1.1 Variáveis\n",
    "    * 1.2 Comentários\n",
    "    * 1.3 Expressões\n",
    "    * 1.4 Imprimindo Valores\n",
    "    * 1.5 Tipos de dados\n",
    "        * 1.4.1 Inteiro\n",
    "        * 1.4.2 Float\n",
    "        * 1.4.3 String\n",
    "        * 1.4.4 Boelano\n",
    "        * 1.4.5 Nulo\n",
    "    * 1.6 Verificando e Modificando os diferentes Tipos de Dados\n",
    "    * 1.7 Operadores Aritméticos\n",
    "* 2. Estrutura de dados\n",
    "    * 2.1 Listas\n",
    "    * 2.2 Dicionários\n",
    "    * 2.3 Tuplas\n",
    "    * 2.4 Sets\n",
    "* 3. Operadores de comparação\n",
    "    * 3.1 Maior que\n",
    "    * 3.2 Menor que\n",
    "    * 3.3 Maior ou igual que\n",
    "    * 3.4 Menor ou igual que\n",
    "    * 3.5 Igual a\n",
    "    * 3.6 Diferente de\n",
    "    * 3.7 Pertence \n",
    "    * 3.8 Negação\n",
    "* 4. Operadores Lógicos\n",
    "    * 4.1 and\n",
    "    * 4.2 or\n",
    "* 5. Estrutura condicionais\n",
    "    * 5.1 if\n",
    "    * 5.2 else\n",
    "    * 5.3 elif\n",
    "* 6. Estrutura de Repetição\n",
    "    * 6.1 for \n",
    "    * 6.2 range\n",
    "    * 6.3 while \n",
    "    * 6.4 while-else\n",
    "    * 6.5 break\n",
    "\n",
    "* 7. funções\n",
    "    * 7.1 Funções SEM retorno\n",
    "    * 7.2 Funções COM retorno\n",
    "    * 7.3 Funções anônimas (lambda)\n",
    "    * 7.4 map e filter\n",
    "* 8. Python intermediário\n",
    "    * 8.1 List Comprehension\n",
    "    * 8.2 Generators\n",
    "    * 8.3 Tratando erros em Python\n",
    "    * 8.4 Lidando com String\n",
    "    * 8.5 Lidando com datas e tempo\n",
    "\n",
    "* 9. Python Orientação a Objetos\n",
    "    * 9.1 Classes e Objetos\n",
    "    * 9.2 Instância\n",
    "    * 9.3 Atributos\n",
    "    * 9.4 Construtor\n",
    "    * 9.5 Herança\n",
    "    * 9.6 Polimofismo\n",
    "  "
   ],
   "metadata": {}
  },
  {
   "cell_type": "markdown",
   "source": [
    "##  1. Conceitos Básicos"
   ],
   "metadata": {}
  },
  {
   "cell_type": "markdown",
   "source": [
    "#### 1.5. Tipos de dados\n",
    "- Inteiro\n",
    "- Float\n",
    "- Boleano\n",
    "- String\n",
    "- Nulo"
   ],
   "metadata": {}
  },
  {
   "cell_type": "code",
   "execution_count": null,
   "source": [
    "# Int\r\n",
    "numero = 1"
   ],
   "outputs": [],
   "metadata": {}
  },
  {
   "cell_type": "code",
   "execution_count": null,
   "source": [
    "# Float\r\n",
    "numero = 1.0"
   ],
   "outputs": [],
   "metadata": {}
  },
  {
   "cell_type": "code",
   "execution_count": null,
   "source": [
    "# String\r\n",
    "texto = \"'Python é fácil'\"\r\n",
    "# 'Citação simples'\r\n",
    "# \"Citações duplas\""
   ],
   "outputs": [],
   "metadata": {}
  },
  {
   "cell_type": "code",
   "execution_count": null,
   "source": [
    "# Boleano\r\n",
    "brasileiro = True"
   ],
   "outputs": [],
   "metadata": {}
  },
  {
   "cell_type": "code",
   "execution_count": null,
   "source": [
    "# Nulo\r\n",
    "dado = None"
   ],
   "outputs": [],
   "metadata": {}
  },
  {
   "cell_type": "code",
   "execution_count": null,
   "source": [
    "valor = '25'"
   ],
   "outputs": [],
   "metadata": {}
  },
  {
   "cell_type": "markdown",
   "source": [
    "#### 1.6 Verificando e modificando os tipos de dados"
   ],
   "metadata": {}
  },
  {
   "cell_type": "code",
   "execution_count": null,
   "source": [
    "# Consultando tipos de dados\r\n",
    "type(dado)"
   ],
   "outputs": [],
   "metadata": {
    "ExecuteTime": {
     "end_time": "2021-08-27T12:57:20.533380Z",
     "start_time": "2021-08-27T12:57:20.417383Z"
    }
   }
  },
  {
   "cell_type": "code",
   "execution_count": null,
   "source": [
    "# Convertendo tipos de dados\r\n",
    "int(numero)"
   ],
   "outputs": [],
   "metadata": {}
  },
  {
   "cell_type": "code",
   "execution_count": null,
   "source": [],
   "outputs": [],
   "metadata": {}
  },
  {
   "cell_type": "code",
   "execution_count": null,
   "source": [],
   "outputs": [],
   "metadata": {}
  },
  {
   "cell_type": "markdown",
   "source": [
    "## Agora é sua vez\r\n",
    "\r\n",
    "1) Crie um programa que receberá nome, idade, salário e brasileiro. o nome é uma variável String, a idade é uma variável inteira, o salário é uma variável float e brasileiro é uma variável boleana. \r\n",
    "\r\n",
    "2) Converta o a variável idade para float e a variável brasileiro para string.\r\n",
    "\r\n",
    "3) Verifique o tipo de cada variável e imprima os valores e seus tipos conforme a saída abaixo:\r\n",
    "\r\n",
    "**Saída:** \r\n",
    "- 'a variável idade é do tipo: {TIPO_DA_VARIAVEL}'\r\n",
    "- 'a variável brasileiro é do tipo: {TIPO_DA_VARIAVEL}'\r\n",
    "- 'a variável nome é do tipo: {TIPO_DA_VARIAVEL}'"
   ],
   "metadata": {}
  },
  {
   "cell_type": "code",
   "execution_count": 3,
   "source": [
    "nome = input(\"Digite seu nome: \")\r\n",
    "idade = int(input(\"Digite sua idade: \"))\r\n",
    "eh_br = bool(input(\"Você eh brasileiro (True:para verdadeiro e False:para falso) \"))\r\n",
    "renda = float(input(\"Digite seu salario: \"))\r\n",
    "\r\n",
    "idade = float(idade)\r\n",
    "eh_br = str(eh_br)\r\n",
    "\r\n",
    "print(f\"Variável:nome({nome}) eh do tipo {type(nome)}\")\r\n",
    "print(f\"Variável:idade({idade}) eh do tipo {type(idade)}\")\r\n",
    "print(f\"Variável:nacionalidade br({eh_br}) eh do tipo {type(eh_br)}\")\r\n",
    "print(f\"Variável:renda(R${renda}) eh do tipo {type(renda)}\")"
   ],
   "outputs": [
    {
     "output_type": "stream",
     "name": "stdout",
     "text": [
      "Variável:nome(Ednael) eh do tipo <class 'str'>\n",
      "Variável:idade(25.0) eh do tipo <class 'float'>\n",
      "Variável:nacionalidade br(True) eh do tipo <class 'str'>\n",
      "Variável:renda (R$2200.0) eh do tipo <class 'float'>\n"
     ]
    }
   ],
   "metadata": {}
  },
  {
   "cell_type": "code",
   "execution_count": null,
   "source": [],
   "outputs": [],
   "metadata": {}
  }
 ],
 "metadata": {
  "kernelspec": {
   "name": "python3",
   "display_name": "Python 3.8.11 64-bit ('rsd': conda)"
  },
  "language_info": {
   "codemirror_mode": {
    "name": "ipython",
    "version": 3
   },
   "file_extension": ".py",
   "mimetype": "text/x-python",
   "name": "python",
   "nbconvert_exporter": "python",
   "pygments_lexer": "ipython3",
   "version": "3.8.11"
  },
  "interpreter": {
   "hash": "42f74353e3a9b5a4cb43330aab4e888bd8c99887f1f7b7373840781ed1656684"
  }
 },
 "nbformat": 4,
 "nbformat_minor": 1
}