{
 "cells": [
  {
   "cell_type": "markdown",
   "metadata": {},
   "source": [
    "# Curso de Python Básico\n",
    "\n",
    "Este é um curso básico de python que tem o objetivo de apresentar a linguagem python de uma **maneira rápida e objetiva**. Vamos direto ao ponto nos conceitos básicos da programação e python com muita mão na massa! \n",
    "\n",
    "Neste curso, vamos trabalhar no **modo iterativo** do python. Porém, entenda que você pode trabalhar no modo script com várias linhas de código usando um arquivo no formato .py.\n",
    "\n",
    "Ao final desse Curso, espero que você se aprenda python e se motive cada vez mais em utilizar a linguagem para diversas tarefas e problemas do mundo real.\n",
    "\n",
    "Este notebook vai apenas passar pelos tópicos básicos em ordem:\n",
    "\n",
    "* 2. Estrutura de dados\n",
    "    * 2.4 Sets"
   ]
  },
  {
   "cell_type": "markdown",
   "metadata": {},
   "source": [
    "## 2. Estrutura de Dados\n",
    "- Listas\n",
    "- Dicionários\n",
    "- Tuplas\n",
    "- Conjuntos"
   ]
  },
  {
   "cell_type": "markdown",
   "metadata": {},
   "source": [
    "#### 2.4 Conjuntos\n",
    "- É uma estrutura de dados utilizada para armazenar valores únicos (distintos)\n",
    "\n",
    "##### 2.4.1 Criando conjuntos"
   ]
  },
  {
   "cell_type": "code",
   "execution_count": 1,
   "metadata": {
    "ExecuteTime": {
     "end_time": "2021-09-27T17:58:51.052867Z",
     "start_time": "2021-09-27T17:58:51.036800Z"
    }
   },
   "outputs": [],
   "source": [
    "lista = [1,2,2,2,2,3,4,5,5,5,5,5,5]\n",
    "conjunto = set(lista)"
   ]
  },
  {
   "cell_type": "code",
   "execution_count": 4,
   "metadata": {
    "ExecuteTime": {
     "end_time": "2021-09-27T17:58:57.049579Z",
     "start_time": "2021-09-27T17:58:57.036577Z"
    }
   },
   "outputs": [
    {
     "data": {
      "text/plain": [
       "5"
      ]
     },
     "execution_count": 4,
     "metadata": {},
     "output_type": "execute_result"
    }
   ],
   "source": [
    "len(conjunto)"
   ]
  },
  {
   "cell_type": "code",
   "execution_count": 5,
   "metadata": {
    "ExecuteTime": {
     "end_time": "2021-09-27T17:59:32.075631Z",
     "start_time": "2021-09-27T17:59:32.068629Z"
    }
   },
   "outputs": [],
   "source": [
    "# conjunto vazio\n",
    "conjunto = {}"
   ]
  },
  {
   "cell_type": "code",
   "execution_count": 6,
   "metadata": {
    "ExecuteTime": {
     "end_time": "2021-09-27T17:59:48.520402Z",
     "start_time": "2021-09-27T17:59:48.516403Z"
    }
   },
   "outputs": [
    {
     "data": {
      "text/plain": [
       "{1, 2, 3, 6}"
      ]
     },
     "execution_count": 6,
     "metadata": {},
     "output_type": "execute_result"
    }
   ],
   "source": [
    "# criando a partir de listas\n",
    "lista = [1,2,3,6]\n",
    "set1 = set(lista)\n",
    "set1"
   ]
  },
  {
   "cell_type": "markdown",
   "metadata": {
    "ExecuteTime": {
     "end_time": "2021-08-27T14:04:02.192781Z",
     "start_time": "2021-08-27T14:04:02.175782Z"
    }
   },
   "source": [
    "##### 2.4.2 Operações entre conjuntos"
   ]
  },
  {
   "cell_type": "code",
   "execution_count": 7,
   "metadata": {
    "ExecuteTime": {
     "end_time": "2021-09-27T18:02:19.123286Z",
     "start_time": "2021-09-27T18:02:19.116282Z"
    }
   },
   "outputs": [],
   "source": [
    "dic = {'a':1, 'b':2}"
   ]
  },
  {
   "cell_type": "code",
   "execution_count": 8,
   "metadata": {
    "ExecuteTime": {
     "end_time": "2021-09-27T18:02:33.806851Z",
     "start_time": "2021-09-27T18:02:33.787850Z"
    }
   },
   "outputs": [
    {
     "data": {
      "text/plain": [
       "['a', 'b']"
      ]
     },
     "execution_count": 8,
     "metadata": {},
     "output_type": "execute_result"
    }
   ],
   "source": [
    "list(dic.keys())"
   ]
  },
  {
   "cell_type": "code",
   "execution_count": 9,
   "metadata": {
    "ExecuteTime": {
     "end_time": "2021-09-27T18:03:01.304767Z",
     "start_time": "2021-09-27T18:03:01.291498Z"
    }
   },
   "outputs": [],
   "source": [
    "set1 = set({1,2,3,4,5,6,7,8,9,10,11,12,13,14,15})\n",
    "set2 = set({2,4,6,8,10,20})"
   ]
  },
  {
   "cell_type": "code",
   "execution_count": 10,
   "metadata": {
    "ExecuteTime": {
     "end_time": "2021-09-27T18:05:29.067898Z",
     "start_time": "2021-09-27T18:05:29.050513Z"
    }
   },
   "outputs": [
    {
     "data": {
      "text/plain": [
       "{2, 4, 6, 8, 10}"
      ]
     },
     "execution_count": 10,
     "metadata": {},
     "output_type": "execute_result"
    }
   ],
   "source": [
    "set1.intersection(set2)"
   ]
  },
  {
   "cell_type": "code",
   "execution_count": 11,
   "metadata": {
    "ExecuteTime": {
     "end_time": "2021-09-27T18:03:01.705988Z",
     "start_time": "2021-09-27T18:03:01.698988Z"
    }
   },
   "outputs": [
    {
     "data": {
      "text/plain": [
       "{1, 3, 5, 7, 9, 11, 12, 13, 14, 15}"
      ]
     },
     "execution_count": 11,
     "metadata": {},
     "output_type": "execute_result"
    }
   ],
   "source": [
    "set1.difference(set2)"
   ]
  },
  {
   "cell_type": "code",
   "execution_count": 12,
   "metadata": {
    "ExecuteTime": {
     "end_time": "2021-09-27T18:03:01.986030Z",
     "start_time": "2021-09-27T18:03:01.979032Z"
    }
   },
   "outputs": [
    {
     "data": {
      "text/plain": [
       "{1, 2, 3, 4, 5, 6, 7, 8, 9, 10, 11, 12, 13, 14, 15, 20}"
      ]
     },
     "execution_count": 12,
     "metadata": {},
     "output_type": "execute_result"
    }
   ],
   "source": [
    "set1.union(set2)"
   ]
  },
  {
   "cell_type": "markdown",
   "metadata": {},
   "source": [
    "##### 2.4.2 Removendo elemento em conjuntos"
   ]
  },
  {
   "cell_type": "code",
   "execution_count": 13,
   "metadata": {
    "ExecuteTime": {
     "end_time": "2021-09-27T18:06:42.556407Z",
     "start_time": "2021-09-27T18:06:42.546407Z"
    }
   },
   "outputs": [
    {
     "data": {
      "text/plain": [
       "{1, 2, 3, 4, 5, 6, 7, 8, 9, 10, 11, 12, 13, 14, 15}"
      ]
     },
     "execution_count": 13,
     "metadata": {},
     "output_type": "execute_result"
    }
   ],
   "source": [
    "set1"
   ]
  },
  {
   "cell_type": "code",
   "execution_count": 14,
   "metadata": {
    "ExecuteTime": {
     "end_time": "2021-09-27T18:06:44.696660Z",
     "start_time": "2021-09-27T18:06:44.682661Z"
    }
   },
   "outputs": [],
   "source": [
    "set1.remove(2)"
   ]
  },
  {
   "cell_type": "code",
   "execution_count": 15,
   "metadata": {
    "ExecuteTime": {
     "end_time": "2021-08-27T14:07:12.815594Z",
     "start_time": "2021-08-27T14:07:12.807591Z"
    }
   },
   "outputs": [],
   "source": [
    "# remove o elemento se ele existe e não faz nada caso contrário\n",
    "set1.discard(1)"
   ]
  },
  {
   "cell_type": "code",
   "execution_count": 16,
   "metadata": {
    "ExecuteTime": {
     "end_time": "2021-08-27T14:07:23.820202Z",
     "start_time": "2021-08-27T14:07:23.808202Z"
    }
   },
   "outputs": [],
   "source": [
    "set1.clear()"
   ]
  },
  {
   "cell_type": "code",
   "execution_count": 17,
   "metadata": {
    "ExecuteTime": {
     "end_time": "2021-08-27T14:07:26.467490Z",
     "start_time": "2021-08-27T14:07:26.455491Z"
    }
   },
   "outputs": [
    {
     "data": {
      "text/plain": [
       "set()"
      ]
     },
     "execution_count": 17,
     "metadata": {},
     "output_type": "execute_result"
    }
   ],
   "source": [
    "set1"
   ]
  },
  {
   "cell_type": "markdown",
   "metadata": {},
   "source": [
    "## Agora é sua vez"
   ]
  },
  {
   "cell_type": "markdown",
   "metadata": {},
   "source": [
    "**1) Crie um conjunto dos números inteiores até o número 10**"
   ]
  },
  {
   "cell_type": "code",
   "execution_count": 18,
   "metadata": {},
   "outputs": [],
   "source": [
    "set_num = {0,1,2,3,4,5,6,7,8,9,10}"
   ]
  },
  {
   "cell_type": "markdown",
   "metadata": {},
   "source": [
    "**2) Crie um novo conjunto para osnúmeros inteiros pares até o número 10 (2, 4, 6, 8, 10)**"
   ]
  },
  {
   "cell_type": "code",
   "execution_count": 19,
   "metadata": {},
   "outputs": [],
   "source": [
    "set_pares=set([num for num in set_num if num%2==0])"
   ]
  },
  {
   "cell_type": "code",
   "execution_count": 20,
   "metadata": {},
   "outputs": [
    {
     "data": {
      "text/plain": [
       "{0, 2, 4, 6, 8, 10}"
      ]
     },
     "execution_count": 20,
     "metadata": {},
     "output_type": "execute_result"
    }
   ],
   "source": [
    "set_pares"
   ]
  },
  {
   "cell_type": "markdown",
   "metadata": {},
   "source": [
    "**3) Mostre o resultado da intersseessão, união e diferença entre os dois conjuntos**"
   ]
  },
  {
   "cell_type": "code",
   "execution_count": 21,
   "metadata": {},
   "outputs": [
    {
     "name": "stdout",
     "output_type": "stream",
     "text": [
      "{0, 2, 4, 6, 8, 10}\n",
      "{0, 1, 2, 3, 4, 5, 6, 7, 8, 9, 10}\n",
      "{1, 3, 5, 7, 9}\n"
     ]
    }
   ],
   "source": [
    "print(set_num.intersection(set_pares))\n",
    "print(set_num.union(set_pares))\n",
    "print(set_num.difference(set_pares))"
   ]
  }
 ],
 "metadata": {
  "interpreter": {
   "hash": "42f74353e3a9b5a4cb43330aab4e888bd8c99887f1f7b7373840781ed1656684"
  },
  "kernelspec": {
   "display_name": "Python 3.8.11 64-bit ('rsd': conda)",
   "name": "python3"
  },
  "language_info": {
   "codemirror_mode": {
    "name": "ipython",
    "version": 3
   },
   "file_extension": ".py",
   "mimetype": "text/x-python",
   "name": "python",
   "nbconvert_exporter": "python",
   "pygments_lexer": "ipython3",
   "version": "3.8.11"
  }
 },
 "nbformat": 4,
 "nbformat_minor": 1
}
