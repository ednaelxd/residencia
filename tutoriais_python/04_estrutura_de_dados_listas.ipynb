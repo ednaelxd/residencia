{
 "cells": [
  {
   "cell_type": "markdown",
   "metadata": {},
   "source": [
    "# Curso de Python Básico\n",
    "\n",
    "Este é um curso básico de python que tem o objetivo de apresentar a linguagem python de uma **maneira rápida e objetiva**. Vamos direto ao ponto nos conceitos básicos da programação e python com muita mão na massa! \n",
    "\n",
    "Neste curso, vamos trabalhar no **modo iterativo** do python. Porém, entenda que você pode trabalhar no modo script com várias linhas de código usando um arquivo no formato .py.\n",
    "\n",
    "Ao final desse Curso, espero que você se aprenda python e se motive cada vez mais em utilizar a linguagem para diversas tarefas e problemas do mundo real.\n",
    "\n",
    "Este notebook vai apenas passar pelos tópicos básicos em ordem:\n",
    "\n",
    "* 2. Estrutura de dados\n",
    "    * 2.1 Listas\n",
    "    * 2.2 Dicionários\n",
    "    * 2.3 Tuplas\n",
    "    * 2.4 Sets"
   ]
  },
  {
   "cell_type": "markdown",
   "metadata": {},
   "source": [
    "## 2. Estrutura de Dados\n",
    "- Listas\n",
    "- Dicionários\n",
    "- Tuplas\n",
    "- Conjuntos\n",
    "\n",
    "#### 2.1 Listas \n",
    "Estrutura de dados utilizada para armazenar sequências de valores de forma organizada a partir de um índice que representa a posição na coletação (o índice iniciando em zero)\n",
    "\n",
    "#### 2.1.1 Definição de Listas"
   ]
  },
  {
   "cell_type": "code",
   "execution_count": null,
   "metadata": {},
   "outputs": [],
   "source": [
    "minha_lista = [1,2,3]"
   ]
  },
  {
   "cell_type": "code",
   "execution_count": null,
   "metadata": {},
   "outputs": [],
   "source": [
    "# lista vazia\n",
    "minha_lista = []"
   ]
  },
  {
   "cell_type": "code",
   "execution_count": null,
   "metadata": {
    "ExecuteTime": {
     "end_time": "2021-08-27T13:57:23.497503Z",
     "start_time": "2021-08-27T13:57:23.481505Z"
    }
   },
   "outputs": [],
   "source": [
    "# valores em listas\n",
    "minha_lista = ['hi',1.0,[1,2], True]"
   ]
  },
  {
   "cell_type": "code",
   "execution_count": null,
   "metadata": {},
   "outputs": [],
   "source": [
    "minha_lista[2]"
   ]
  },
  {
   "cell_type": "code",
   "execution_count": null,
   "metadata": {},
   "outputs": [],
   "source": [
    "minha_lista = ['a','b','c']"
   ]
  },
  {
   "cell_type": "code",
   "execution_count": null,
   "metadata": {},
   "outputs": [],
   "source": [
    "minha_lista.append('d')"
   ]
  },
  {
   "cell_type": "code",
   "execution_count": null,
   "metadata": {},
   "outputs": [],
   "source": [
    "minha_lista"
   ]
  },
  {
   "cell_type": "markdown",
   "metadata": {},
   "source": [
    "##### 2.1.2 Acessando listas"
   ]
  },
  {
   "cell_type": "code",
   "execution_count": null,
   "metadata": {},
   "outputs": [],
   "source": [
    "[a, b, c, d]\n",
    "[0, 1, 2, 3]\n",
    "[-4, -3, -2, -1]"
   ]
  },
  {
   "cell_type": "code",
   "execution_count": null,
   "metadata": {},
   "outputs": [],
   "source": [
    "minha_lista[-1]"
   ]
  },
  {
   "cell_type": "code",
   "execution_count": null,
   "metadata": {},
   "outputs": [],
   "source": [
    "minha_lista[0]"
   ]
  },
  {
   "cell_type": "code",
   "execution_count": null,
   "metadata": {},
   "outputs": [],
   "source": [
    "minha_lista[-1]"
   ]
  },
  {
   "cell_type": "code",
   "execution_count": null,
   "metadata": {},
   "outputs": [],
   "source": [
    "minha_lista"
   ]
  },
  {
   "cell_type": "code",
   "execution_count": null,
   "metadata": {},
   "outputs": [],
   "source": [
    "minha_lista[0] = 'A'"
   ]
  },
  {
   "cell_type": "code",
   "execution_count": null,
   "metadata": {},
   "outputs": [],
   "source": [
    "minha_lista"
   ]
  },
  {
   "cell_type": "code",
   "execution_count": null,
   "metadata": {},
   "outputs": [],
   "source": [
    "nest = [1,2,3,[4,5,['target']]]"
   ]
  },
  {
   "cell_type": "code",
   "execution_count": null,
   "metadata": {},
   "outputs": [],
   "source": [
    "nest[3][2][0]"
   ]
  },
  {
   "cell_type": "code",
   "execution_count": null,
   "metadata": {
    "ExecuteTime": {
     "end_time": "2021-08-27T13:31:45.345940Z",
     "start_time": "2021-08-27T13:31:45.336941Z"
    }
   },
   "outputs": [],
   "source": [
    "minha_lista = ['a', 'b', 'c', 'd']"
   ]
  },
  {
   "cell_type": "code",
   "execution_count": null,
   "metadata": {
    "ExecuteTime": {
     "end_time": "2021-08-27T13:32:08.991847Z",
     "start_time": "2021-08-27T13:32:08.983849Z"
    }
   },
   "outputs": [],
   "source": [
    "# retorne uma sublista\n",
    "minha_lista[2:4]"
   ]
  },
  {
   "cell_type": "markdown",
   "metadata": {},
   "source": [
    "##### 2.1.3 Adicionando elementos"
   ]
  },
  {
   "cell_type": "code",
   "execution_count": null,
   "metadata": {
    "ExecuteTime": {
     "end_time": "2021-08-27T13:22:54.147340Z",
     "start_time": "2021-08-27T13:22:54.141344Z"
    }
   },
   "outputs": [],
   "source": [
    "minha_lista = []"
   ]
  },
  {
   "cell_type": "code",
   "execution_count": null,
   "metadata": {
    "ExecuteTime": {
     "end_time": "2021-08-27T13:22:54.349586Z",
     "start_time": "2021-08-27T13:22:54.337586Z"
    }
   },
   "outputs": [],
   "source": [
    "# Inserir elemento em listas\n",
    "minha_lista.append('Novo elemento')"
   ]
  },
  {
   "cell_type": "code",
   "execution_count": null,
   "metadata": {
    "ExecuteTime": {
     "end_time": "2021-08-27T13:23:04.171174Z",
     "start_time": "2021-08-27T13:23:04.157174Z"
    }
   },
   "outputs": [],
   "source": [
    "# Inserir elemento usando o index\n",
    "minha_lista.insert(0, 'primeiro elemento')"
   ]
  },
  {
   "cell_type": "code",
   "execution_count": null,
   "metadata": {
    "ExecuteTime": {
     "end_time": "2021-08-27T13:23:42.526142Z",
     "start_time": "2021-08-27T13:23:42.515144Z"
    }
   },
   "outputs": [],
   "source": [
    "minha_lista[1] = 'Alterando'"
   ]
  },
  {
   "cell_type": "code",
   "execution_count": null,
   "metadata": {
    "ExecuteTime": {
     "end_time": "2021-08-27T13:23:44.252146Z",
     "start_time": "2021-08-27T13:23:44.234149Z"
    }
   },
   "outputs": [],
   "source": [
    "minha_lista"
   ]
  },
  {
   "cell_type": "markdown",
   "metadata": {},
   "source": [
    "##### 2.1.4 Removendo Elementos"
   ]
  },
  {
   "cell_type": "code",
   "execution_count": null,
   "metadata": {
    "ExecuteTime": {
     "end_time": "2021-08-27T13:28:26.144884Z",
     "start_time": "2021-08-27T13:28:26.136885Z"
    }
   },
   "outputs": [],
   "source": [
    "minha_lista = ['A', 'B', 'C', 'D']"
   ]
  },
  {
   "cell_type": "code",
   "execution_count": null,
   "metadata": {
    "ExecuteTime": {
     "end_time": "2021-08-27T13:28:37.337802Z",
     "start_time": "2021-08-27T13:28:37.323802Z"
    }
   },
   "outputs": [],
   "source": [
    "minha_lista.remove('B')"
   ]
  },
  {
   "cell_type": "code",
   "execution_count": null,
   "metadata": {
    "ExecuteTime": {
     "end_time": "2021-08-27T13:28:53.274734Z",
     "start_time": "2021-08-27T13:28:53.256747Z"
    }
   },
   "outputs": [],
   "source": [
    "minha_lista"
   ]
  },
  {
   "cell_type": "code",
   "execution_count": null,
   "metadata": {
    "ExecuteTime": {
     "end_time": "2021-08-27T13:29:07.970645Z",
     "start_time": "2021-08-27T13:29:07.960646Z"
    }
   },
   "outputs": [],
   "source": [
    "del minha_lista[0]"
   ]
  },
  {
   "cell_type": "code",
   "execution_count": null,
   "metadata": {
    "ExecuteTime": {
     "end_time": "2021-08-27T13:29:12.576635Z",
     "start_time": "2021-08-27T13:29:12.561637Z"
    }
   },
   "outputs": [],
   "source": [
    "minha_lista"
   ]
  },
  {
   "cell_type": "markdown",
   "metadata": {
    "ExecuteTime": {
     "end_time": "2021-08-27T13:13:38.436915Z",
     "start_time": "2021-08-27T13:13:38.426915Z"
    }
   },
   "source": [
    "##### 2.1.5 Concatenando listas"
   ]
  },
  {
   "cell_type": "code",
   "execution_count": null,
   "metadata": {
    "ExecuteTime": {
     "end_time": "2021-08-27T13:25:40.095612Z",
     "start_time": "2021-08-27T13:25:40.082616Z"
    }
   },
   "outputs": [],
   "source": [
    "minha_lista = ['Z'] + minha_lista "
   ]
  },
  {
   "cell_type": "code",
   "execution_count": null,
   "metadata": {
    "ExecuteTime": {
     "end_time": "2021-08-27T13:25:40.221811Z",
     "start_time": "2021-08-27T13:25:40.216810Z"
    }
   },
   "outputs": [],
   "source": [
    "minha_lista"
   ]
  },
  {
   "cell_type": "code",
   "execution_count": null,
   "metadata": {
    "ExecuteTime": {
     "end_time": "2021-08-27T13:25:40.377726Z",
     "start_time": "2021-08-27T13:25:40.360722Z"
    }
   },
   "outputs": [],
   "source": [
    "minha_lista = ['farinha de trigo', 'ovo', 'leite', 'manteiga']"
   ]
  },
  {
   "cell_type": "code",
   "execution_count": null,
   "metadata": {
    "ExecuteTime": {
     "end_time": "2021-08-27T13:25:40.487221Z",
     "start_time": "2021-08-27T13:25:40.480221Z"
    }
   },
   "outputs": [],
   "source": [
    "minha_lista.extend(['açucar', 'fermento'])"
   ]
  },
  {
   "cell_type": "code",
   "execution_count": null,
   "metadata": {
    "ExecuteTime": {
     "end_time": "2021-08-27T13:25:40.642602Z",
     "start_time": "2021-08-27T13:25:40.624606Z"
    }
   },
   "outputs": [],
   "source": [
    "minha_lista"
   ]
  },
  {
   "cell_type": "markdown",
   "metadata": {},
   "source": [
    "##### 2.1.6 Ordenação de listas"
   ]
  },
  {
   "cell_type": "code",
   "execution_count": null,
   "metadata": {
    "ExecuteTime": {
     "end_time": "2021-08-27T13:24:13.085474Z",
     "start_time": "2021-08-27T13:24:13.082484Z"
    }
   },
   "outputs": [],
   "source": [
    "minha_lista = [1,5,2,3,4]"
   ]
  },
  {
   "cell_type": "code",
   "execution_count": null,
   "metadata": {
    "ExecuteTime": {
     "end_time": "2021-08-27T13:24:32.008461Z",
     "start_time": "2021-08-27T13:24:31.996449Z"
    }
   },
   "outputs": [],
   "source": [
    "minha_lista.sort(reverse=False)"
   ]
  },
  {
   "cell_type": "code",
   "execution_count": null,
   "metadata": {
    "ExecuteTime": {
     "end_time": "2021-08-27T13:24:32.256912Z",
     "start_time": "2021-08-27T13:24:32.240913Z"
    }
   },
   "outputs": [],
   "source": [
    "minha_lista"
   ]
  },
  {
   "cell_type": "markdown",
   "metadata": {},
   "source": [
    "##### 2.1.7 Comprimento de listas"
   ]
  },
  {
   "cell_type": "code",
   "execution_count": null,
   "metadata": {
    "ExecuteTime": {
     "end_time": "2021-08-27T13:34:46.039340Z",
     "start_time": "2021-08-27T13:34:46.032333Z"
    }
   },
   "outputs": [],
   "source": [
    "len(minha_lista)"
   ]
  },
  {
   "cell_type": "markdown",
   "metadata": {},
   "source": [
    "##### 2.1.8 Convertendo lista para string"
   ]
  },
  {
   "cell_type": "code",
   "execution_count": null,
   "metadata": {
    "ExecuteTime": {
     "end_time": "2021-08-27T13:30:41.450232Z",
     "start_time": "2021-08-27T13:30:41.434233Z"
    }
   },
   "outputs": [],
   "source": [
    "minha_lista = ['1', '2', '3', '4', '5']"
   ]
  },
  {
   "cell_type": "code",
   "execution_count": null,
   "metadata": {
    "ExecuteTime": {
     "end_time": "2021-08-27T13:30:41.731230Z",
     "start_time": "2021-08-27T13:30:41.727231Z"
    }
   },
   "outputs": [],
   "source": [
    "''.join(minha_lista)"
   ]
  },
  {
   "cell_type": "code",
   "execution_count": null,
   "metadata": {},
   "outputs": [],
   "source": []
  },
  {
   "cell_type": "markdown",
   "metadata": {},
   "source": [
    "## Agora é sua vez!"
   ]
  },
  {
   "cell_type": "markdown",
   "metadata": {},
   "source": [
    "**1) Crie uma lista \"familia\" com o nome dos membros da sua família (pais, filhos, avôs e irmãos)**"
   ]
  },
  {
   "cell_type": "code",
   "execution_count": null,
   "metadata": {},
   "outputs": [],
   "source": []
  },
  {
   "cell_type": "markdown",
   "metadata": {},
   "source": [
    "**2) Adicione nesta lista os nomes dos seus animais de estimação que você já teve ou tem**"
   ]
  },
  {
   "cell_type": "code",
   "execution_count": null,
   "metadata": {},
   "outputs": [],
   "source": []
  },
  {
   "cell_type": "markdown",
   "metadata": {},
   "source": [
    "**3) Remova os animais de estimação que você não tem mais**"
   ]
  },
  {
   "cell_type": "code",
   "execution_count": null,
   "metadata": {},
   "outputs": [],
   "source": []
  },
  {
   "cell_type": "markdown",
   "metadata": {},
   "source": [
    "**4) Crie uma nova lista com nome Amigos e adicione seus principais amigos nesta lista**"
   ]
  },
  {
   "cell_type": "code",
   "execution_count": null,
   "metadata": {},
   "outputs": [],
   "source": []
  },
  {
   "cell_type": "markdown",
   "metadata": {},
   "source": [
    "**5) Concatene as listas Familia e Amigos em uma nova lista chamada Networking**"
   ]
  },
  {
   "cell_type": "code",
   "execution_count": null,
   "metadata": {},
   "outputs": [],
   "source": []
  },
  {
   "cell_type": "markdown",
   "metadata": {},
   "source": [
    "**6) Delete as listas Familia e Amigos**"
   ]
  },
  {
   "cell_type": "code",
   "execution_count": null,
   "metadata": {},
   "outputs": [],
   "source": []
  },
  {
   "cell_type": "markdown",
   "metadata": {},
   "source": [
    "**8) Ordene a lista Networking por ordem alfabetica a-z**"
   ]
  },
  {
   "cell_type": "code",
   "execution_count": null,
   "metadata": {},
   "outputs": [],
   "source": []
  },
  {
   "cell_type": "markdown",
   "metadata": {},
   "source": [
    "**9) Verifique o tamanho da lista networking**"
   ]
  },
  {
   "cell_type": "code",
   "execution_count": null,
   "metadata": {},
   "outputs": [],
   "source": []
  },
  {
   "cell_type": "markdown",
   "metadata": {},
   "source": [
    "**10) Converta todos os itens da lista para string usando o separador '|'**"
   ]
  },
  {
   "cell_type": "code",
   "execution_count": null,
   "metadata": {},
   "outputs": [],
   "source": []
  }
 ],
 "metadata": {
  "kernelspec": {
   "display_name": "Python 3",
   "language": "python",
   "name": "python3"
  },
  "language_info": {
   "codemirror_mode": {
    "name": "ipython",
    "version": 3
   },
   "file_extension": ".py",
   "mimetype": "text/x-python",
   "name": "python",
   "nbconvert_exporter": "python",
   "pygments_lexer": "ipython3",
   "version": "3.8.11"
  }
 },
 "nbformat": 4,
 "nbformat_minor": 1
}
