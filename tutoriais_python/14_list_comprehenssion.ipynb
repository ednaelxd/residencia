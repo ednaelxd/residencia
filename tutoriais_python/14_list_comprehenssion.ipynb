{
 "cells": [
  {
   "cell_type": "markdown",
   "metadata": {},
   "source": [
    "# Curso de Python Básico\n",
    "\n",
    "Este é um curso básico de python que tem o objetivo de apresentar a linguagem python de uma **maneira rápida e objetiva**. Vamos direto ao ponto nos conceitos básicos da programação e python com muita mão na massa! \n",
    "\n",
    "Neste curso, vamos trabalhar no **modo iterativo** do python. Porém, entenda que você pode trabalhar no modo script com várias linhas de código usando um arquivo no formato .py.\n",
    "\n",
    "Ao final desse Curso, espero que você se aprenda python e se motive cada vez mais em utilizar a linguagem para diversas tarefas e problemas do mundo real.\n",
    "\n",
    "Este notebook vai apenas passar pelos tópicos básicos em ordem:\n",
    "\n",
    "* 8. Python intermediário\n",
    "    * 8.1 List Comprehension\n",
    "    * 8.2 Generators\n",
    "    * 8.3 Tratando erros em Python\n",
    "    * 8.4 Lidando com String\n",
    "    * 8.5 Lidando com datas e tempo"
   ]
  },
  {
   "cell_type": "markdown",
   "metadata": {},
   "source": [
    "###  8. Python Intermediario\n",
    "\n",
    "##### 8.1 Compreensão de Listas (list comprehension)\n",
    "É uma estrutura disponível em algumas linguagens de programação para  criar listas baseados em listas existentes. Use list comprehension para deixar o código mais robusto \n",
    "\n",
    "Estrutura é:\n",
    "- retorne este elemento | para a iteração | se a condição acontecer\n"
   ]
  },
  {
   "cell_type": "code",
   "execution_count": null,
   "metadata": {
    "ExecuteTime": {
     "end_time": "2021-08-27T14:31:03.974738Z",
     "start_time": "2021-08-27T14:31:03.969738Z"
    }
   },
   "outputs": [],
   "source": [
    "x = [1,2,3,4,5,6]"
   ]
  },
  {
   "cell_type": "code",
   "execution_count": null,
   "metadata": {
    "ExecuteTime": {
     "end_time": "2021-08-27T14:31:04.256989Z",
     "start_time": "2021-08-27T14:31:04.239998Z"
    }
   },
   "outputs": [],
   "source": [
    "pares = []\n",
    "for item in x:\n",
    "    if item % 2 ==0:\n",
    "        pares.append(item)\n",
    "print(pares)"
   ]
  },
  {
   "cell_type": "code",
   "execution_count": null,
   "metadata": {
    "ExecuteTime": {
     "end_time": "2021-08-27T14:32:39.527297Z",
     "start_time": "2021-08-27T14:32:39.520294Z"
    }
   },
   "outputs": [],
   "source": [
    "[a for a in x if a % 2==0]"
   ]
  },
  {
   "cell_type": "code",
   "execution_count": null,
   "metadata": {},
   "outputs": [],
   "source": [
    "[i**2 for i in [1,2,3,4,5] if i %2 !=0]"
   ]
  },
  {
   "cell_type": "code",
   "execution_count": null,
   "metadata": {},
   "outputs": [],
   "source": []
  },
  {
   "cell_type": "markdown",
   "metadata": {},
   "source": [
    "## Agora é sua vez"
   ]
  },
  {
   "cell_type": "markdown",
   "metadata": {
    "ExecuteTime": {
     "end_time": "2021-09-27T19:16:33.728027Z",
     "start_time": "2021-09-27T19:16:33.719025Z"
    }
   },
   "source": [
    "**1) Crie um list comprehension que irá retornar os números ímpares dados uma sequência de 0 até 10**"
   ]
  },
  {
   "cell_type": "code",
   "execution_count": null,
   "metadata": {},
   "outputs": [],
   "source": []
  },
  {
   "cell_type": "markdown",
   "metadata": {
    "ExecuteTime": {
     "end_time": "2021-09-27T19:24:18.167685Z",
     "start_time": "2021-09-27T19:24:18.152685Z"
    }
   },
   "source": [
    "**2) Crie um list comprehension que irá retornar os números divisíveis por 2 e por 3 dados uma sequência de 0 até 10**"
   ]
  },
  {
   "cell_type": "code",
   "execution_count": null,
   "metadata": {},
   "outputs": [],
   "source": []
  }
 ],
 "metadata": {
  "kernelspec": {
   "display_name": "Python 3",
   "language": "python",
   "name": "python3"
  },
  "language_info": {
   "codemirror_mode": {
    "name": "ipython",
    "version": 3
   },
   "file_extension": ".py",
   "mimetype": "text/x-python",
   "name": "python",
   "nbconvert_exporter": "python",
   "pygments_lexer": "ipython3",
   "version": "3.8.11"
  }
 },
 "nbformat": 4,
 "nbformat_minor": 1
}
