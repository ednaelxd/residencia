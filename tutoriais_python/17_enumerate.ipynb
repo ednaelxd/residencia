{
 "cells": [
  {
   "cell_type": "markdown",
   "metadata": {},
   "source": [
    "# Curso de Python Básico\n",
    "\n",
    "Este é um curso básico de python que tem o objetivo de apresentar a linguagem python de uma **maneira rápida e objetiva**. Vamos direto ao ponto nos conceitos básicos da programação e python com muita mão na massa! \n",
    "\n",
    "Neste curso, vamos trabalhar no **modo iterativo** do python. Porém, entenda que você pode trabalhar no modo script com várias linhas de código usando um arquivo no formato .py.\n",
    "\n",
    "Ao final desse Curso, espero que você se aprenda python e se motive cada vez mais em utilizar a linguagem para diversas tarefas e problemas do mundo real.\n",
    "\n",
    "Este notebook vai apenas passar pelos tópicos básicos em ordem:\n",
    "\n",
    "* 1. Conceitos Básicos\n",
    "    * 1.1 Variáveis\n",
    "    * 1.2 Comentários\n",
    "    * 1.3 Expressões\n",
    "    * 1.4 Tipos de dados\n",
    "        * 1.4.1 Inteiro\n",
    "        * 1.4.2 Float\n",
    "        * 1.4.3 String\n",
    "        * 1.4.4 Boelano\n",
    "        * 1.4.5 Nulo\n",
    "    * 1.5 Verificando e Modificando os diferentes Tipos de Dados\n",
    "    * 1.6 Imprimindo Valores\n",
    "    * 1.7 Operadores Aritméticos\n",
    "* 2. Estrutura de dados\n",
    "    * 2.1 Listas\n",
    "    * 2.2 Dicionários\n",
    "    * 2.3 Tuplas\n",
    "    * 2.4 Sets\n",
    "* 3. Operadores de comparação\n",
    "    * 3.1 Maior que\n",
    "    * 3.2 Menor que\n",
    "    * 3.3 Maior ou igual que\n",
    "    * 3.4 Menor ou igual que\n",
    "    * 3.5 Igual a\n",
    "    * 3.6 Diferente de\n",
    "    * 3.7 Pertence \n",
    "    * 3.8 Negação\n",
    "* 4. Operadores Lógicos\n",
    "    * 4.1 and\n",
    "    * 4.2 or\n",
    "* 5. Estrutura condicionais\n",
    "    * 5.1 if\n",
    "    * 5.2 else\n",
    "    * 5.3 elif\n",
    "* 6. Estrutura de Repetição\n",
    "    * 6.1 for \n",
    "    * 6.2 range\n",
    "    * 6.3 while \n",
    "    * 6.4 while-else\n",
    "    * 6.5 break\n",
    "\n",
    "* 7. funções\n",
    "    * 7.1 Funções SEM retorno\n",
    "    * 7.2 Funções COM retorno\n",
    "    * 7.3 Funções anônimas (lambda)\n",
    "    * 7.4 map e filter\n",
    "* 8. Python intermediário\n",
    "    * 8.1 List Comprehension\n",
    "    * 8.2 Generators\n",
    "    * 8.3 Tratando erros em Python\n",
    "    * 8.4 Lidando com String\n",
    "    * 8.5 Lidando com datas e tempo\n",
    "\n",
    "* 9. Python Orientação a Objetos\n",
    "    * 9.1 Classes e Objetos\n",
    "    * 9.2 Instância\n",
    "    * 9.3 Atributos\n",
    "    * 9.4 Construtor\n",
    "    * 9.5 Herança\n",
    "    * 9.6 Polimofismo\n",
    "  "
   ]
  },
  {
   "cell_type": "markdown",
   "metadata": {},
   "source": [
    "#### 8.4 Enumerate\n",
    "\n",
    "É uma função build-in de python que pode ser útil para iterar sob objetos em python e ter o contador da iteração"
   ]
  },
  {
   "cell_type": "code",
   "execution_count": null,
   "metadata": {
    "ExecuteTime": {
     "end_time": "2021-08-27T18:25:26.075388Z",
     "start_time": "2021-08-27T18:25:26.066389Z"
    }
   },
   "outputs": [],
   "source": [
    "my_list = ['apple', 'banana', 'grapes', 'pear']\n",
    "for counter, value in enumerate(my_list):\n",
    "    print (counter, value)"
   ]
  },
  {
   "cell_type": "code",
   "execution_count": null,
   "metadata": {
    "ExecuteTime": {
     "end_time": "2021-08-27T18:29:09.544468Z",
     "start_time": "2021-08-27T18:29:09.535470Z"
    }
   },
   "outputs": [],
   "source": [
    "my_list = ['apple', 'banana', 'grapes', 'pear']\n",
    "for counter, value in enumerate(my_list, start=10):\n",
    "    print (counter, value)"
   ]
  }
 ],
 "metadata": {
  "kernelspec": {
   "display_name": "Python 3",
   "language": "python",
   "name": "python3"
  },
  "language_info": {
   "codemirror_mode": {
    "name": "ipython",
    "version": 3
   },
   "file_extension": ".py",
   "mimetype": "text/x-python",
   "name": "python",
   "nbconvert_exporter": "python",
   "pygments_lexer": "ipython3",
   "version": "3.8.11"
  }
 },
 "nbformat": 4,
 "nbformat_minor": 1
}
