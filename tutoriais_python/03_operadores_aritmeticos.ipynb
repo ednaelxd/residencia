{
 "cells": [
  {
   "cell_type": "markdown",
   "source": [
    "# Curso de Python Básico\n",
    "\n",
    "Este é um curso básico de python que tem o objetivo de apresentar a linguagem python de uma **maneira rápida e objetiva**. Vamos direto ao ponto nos conceitos básicos da programação e python com muita mão na massa! \n",
    "\n",
    "Neste curso, vamos trabalhar no **modo iterativo** do python. Porém, entenda que você pode trabalhar no modo script com várias linhas de código usando um arquivo no formato .py.\n",
    "\n",
    "Ao final desse Curso, espero que você se aprenda python e se motive cada vez mais em utilizar a linguagem para diversas tarefas e problemas do mundo real.\n",
    "\n",
    "Este notebook vai apenas passar pelos tópicos básicos em ordem:\n",
    "\n",
    "* 1. Conceitos Básicos\n",
    "    * 1.7 Operadores Aritméticos"
   ],
   "metadata": {}
  },
  {
   "cell_type": "markdown",
   "source": [
    "##  1. Conceitos Básicos"
   ],
   "metadata": {}
  },
  {
   "cell_type": "markdown",
   "source": [
    "#### 1.7 Operadores Aritiméticos\n",
    "- Adição\n",
    "- Subtração\n",
    "- Multiplicação\n",
    "- Divisão\n",
    "- Expondenciação\n",
    "- Resto da divisão"
   ],
   "metadata": {
    "ExecuteTime": {
     "end_time": "2021-08-27T12:58:36.352675Z",
     "start_time": "2021-08-27T12:58:36.344676Z"
    }
   }
  },
  {
   "cell_type": "code",
   "execution_count": 1,
   "source": [
    "# adição\r\n",
    "1 + 1"
   ],
   "outputs": [
    {
     "output_type": "execute_result",
     "data": {
      "text/plain": [
       "2"
      ]
     },
     "metadata": {},
     "execution_count": 1
    }
   ],
   "metadata": {}
  },
  {
   "cell_type": "code",
   "execution_count": 2,
   "source": [
    "# multiplicação\r\n",
    "1 * 3"
   ],
   "outputs": [
    {
     "output_type": "execute_result",
     "data": {
      "text/plain": [
       "3"
      ]
     },
     "metadata": {},
     "execution_count": 2
    }
   ],
   "metadata": {}
  },
  {
   "cell_type": "code",
   "execution_count": 3,
   "source": [
    "# Divisão (float)\r\n",
    "1 / 2"
   ],
   "outputs": [
    {
     "output_type": "execute_result",
     "data": {
      "text/plain": [
       "0.5"
      ]
     },
     "metadata": {},
     "execution_count": 3
    }
   ],
   "metadata": {}
  },
  {
   "cell_type": "code",
   "execution_count": 4,
   "source": [
    "# Expondenciação\r\n",
    "2 ** 4"
   ],
   "outputs": [
    {
     "output_type": "execute_result",
     "data": {
      "text/plain": [
       "16"
      ]
     },
     "metadata": {},
     "execution_count": 4
    }
   ],
   "metadata": {}
  },
  {
   "cell_type": "code",
   "execution_count": 5,
   "source": [
    "# Resto da divisão\r\n",
    "4 % 2"
   ],
   "outputs": [
    {
     "output_type": "execute_result",
     "data": {
      "text/plain": [
       "0"
      ]
     },
     "metadata": {},
     "execution_count": 5
    }
   ],
   "metadata": {}
  },
  {
   "cell_type": "code",
   "execution_count": 6,
   "source": [
    "(2 + 3) * (5 + 5) "
   ],
   "outputs": [
    {
     "output_type": "execute_result",
     "data": {
      "text/plain": [
       "50"
      ]
     },
     "metadata": {},
     "execution_count": 6
    }
   ],
   "metadata": {}
  },
  {
   "cell_type": "markdown",
   "source": [
    "##### 1.7.1 Ordem das operações\n",
    "\n",
    "Quando uma expressão contém mais de um operador, a ordem da avaliação depende da ordem das operações. Para operadores matemáticos o python segue a conversão matemática. O acrônimo **PEMDAS** pode ser útil para lembrar das regras \n",
    "- P: Parenteses\n",
    "- E: Exponenciação\n",
    "- M: Multiplicação\n",
    "- D: Divisão\n",
    "- A: Adição\n",
    "- S: Subtração:\n",
    "\n",
    "**Parenteses** tem a precedência mais alta e pode ser usado para força a ordem de uma expressão. A **Exponenciação** tem a próxima precedência mais alta. A **Multiplicação e a Divisão** tem a precedência mais alta do que a **adição e subtração**.Operadores com a mesma precedência são avaliados da esquerda para direita.\n",
    "        "
   ],
   "metadata": {
    "ExecuteTime": {
     "end_time": "2021-08-27T13:02:00.190683Z",
     "start_time": "2021-08-27T13:02:00.173684Z"
    }
   }
  },
  {
   "cell_type": "code",
   "execution_count": 7,
   "source": [
    "(1 + 2) * 4"
   ],
   "outputs": [
    {
     "output_type": "execute_result",
     "data": {
      "text/plain": [
       "12"
      ]
     },
     "metadata": {},
     "execution_count": 7
    }
   ],
   "metadata": {
    "ExecuteTime": {
     "end_time": "2021-08-27T13:03:55.098550Z",
     "start_time": "2021-08-27T13:03:55.080551Z"
    }
   }
  },
  {
   "cell_type": "code",
   "execution_count": 8,
   "source": [
    "2 * 2 ** 3 "
   ],
   "outputs": [
    {
     "output_type": "execute_result",
     "data": {
      "text/plain": [
       "16"
      ]
     },
     "metadata": {},
     "execution_count": 8
    }
   ],
   "metadata": {
    "ExecuteTime": {
     "end_time": "2021-08-27T13:04:14.731243Z",
     "start_time": "2021-08-27T13:04:14.727245Z"
    }
   }
  },
  {
   "cell_type": "code",
   "execution_count": 9,
   "source": [
    "2 + 5 * 2"
   ],
   "outputs": [
    {
     "output_type": "execute_result",
     "data": {
      "text/plain": [
       "12"
      ]
     },
     "metadata": {},
     "execution_count": 9
    }
   ],
   "metadata": {
    "ExecuteTime": {
     "end_time": "2021-08-27T13:04:38.852360Z",
     "start_time": "2021-08-27T13:04:38.847363Z"
    }
   }
  },
  {
   "cell_type": "code",
   "execution_count": 10,
   "source": [
    "2 + 10 / 2"
   ],
   "outputs": [
    {
     "output_type": "execute_result",
     "data": {
      "text/plain": [
       "7.0"
      ]
     },
     "metadata": {},
     "execution_count": 10
    }
   ],
   "metadata": {
    "ExecuteTime": {
     "end_time": "2021-08-27T13:04:54.907281Z",
     "start_time": "2021-08-27T13:04:54.902283Z"
    }
   }
  },
  {
   "cell_type": "code",
   "execution_count": 11,
   "source": [
    "(1 + 2) ** 2 * 10 / 2 + 11 - 1"
   ],
   "outputs": [
    {
     "output_type": "execute_result",
     "data": {
      "text/plain": [
       "55.0"
      ]
     },
     "metadata": {},
     "execution_count": 11
    }
   ],
   "metadata": {
    "ExecuteTime": {
     "end_time": "2021-08-27T13:06:06.669559Z",
     "start_time": "2021-08-27T13:06:06.664558Z"
    }
   }
  },
  {
   "cell_type": "markdown",
   "source": [
    "## Agora é sua vez!"
   ],
   "metadata": {}
  },
  {
   "cell_type": "markdown",
   "source": [
    "**1) Quanto é 7 elevado na potência 4?**"
   ],
   "metadata": {}
  },
  {
   "cell_type": "code",
   "execution_count": 15,
   "source": [
    "7**4"
   ],
   "outputs": [
    {
     "output_type": "execute_result",
     "data": {
      "text/plain": [
       "2401"
      ]
     },
     "metadata": {},
     "execution_count": 15
    }
   ],
   "metadata": {}
  },
  {
   "cell_type": "markdown",
   "source": [
    "**2) Qual o resultado da seguinte expressão: (5 + 8) ** 2 * 10 / 2 + 11 - 1** Descreva a ordem que ocorre as operações!"
   ],
   "metadata": {}
  },
  {
   "cell_type": "code",
   "execution_count": null,
   "source": [
    "#Primeiro soma-se o conteúdo dos parênteses\r\n",
    "(5+8)**2*10/2+11-1\r\n",
    "#atualizando\r\n",
    "13**2*10/2+11-1"
   ],
   "outputs": [],
   "metadata": {}
  },
  {
   "cell_type": "code",
   "execution_count": 1,
   "source": [
    "#Logo após a operação a ser realizada é de potenciação\r\n",
    "#atualizando:\r\n",
    "169*10/2+11-1"
   ],
   "outputs": [
    {
     "output_type": "execute_result",
     "data": {
      "text/plain": [
       "169"
      ]
     },
     "metadata": {},
     "execution_count": 1
    }
   ],
   "metadata": {}
  },
  {
   "cell_type": "code",
   "execution_count": null,
   "source": [
    "#Em seguida, segue-se a operação de multiplicação ,depois divisão\r\n",
    "# (da esquerda pra direita, por serem de mesmo valor)\r\n",
    "1690/2+11-1\r\n",
    "#atualizando\r\n",
    "845+11-1\r\n",
    "#finalizando em:\r\n",
    "855"
   ],
   "outputs": [],
   "metadata": {}
  },
  {
   "cell_type": "markdown",
   "source": [
    "**3) Explique o resultado da seguinte expressão: 5 + 8 ** 2 * 10 / 2 + 11 - 1** Descreva a ordem que ocorre as operações!"
   ],
   "metadata": {}
  },
  {
   "cell_type": "code",
   "execution_count": 8,
   "source": [
    "5+8**2*10/2+11-1\r\n",
    "#resolvendo a potenciação temos:\r\n",
    "5+64*10/2+11-1\r\n",
    "#em seguida resolvemos a multiplicação e depois a divisão\r\n",
    "# por ordem (esquerda pra direita), temos:\r\n",
    "5+640/2+11-1\r\n",
    "#em seguida temos:\r\n",
    "5+320+11-1\r\n",
    "#resolvemos  a operação da esquerda pra direita\r\n",
    "#obtendo\r\n",
    "335"
   ],
   "outputs": [
    {
     "output_type": "execute_result",
     "data": {
      "text/plain": [
       "335"
      ]
     },
     "metadata": {},
     "execution_count": 8
    }
   ],
   "metadata": {}
  },
  {
   "cell_type": "markdown",
   "source": [
    "**4) Explique o resultado da seguinte expressão: 5 + 8 ** 2 * 10 / 2 + 11 - 1**. Descreva a ordem que ocorre as operações!"
   ],
   "metadata": {}
  },
  {
   "cell_type": "code",
   "execution_count": null,
   "source": [
    "#questão repetida"
   ],
   "outputs": [],
   "metadata": {}
  },
  {
   "cell_type": "code",
   "execution_count": null,
   "source": [],
   "outputs": [],
   "metadata": {}
  }
 ],
 "metadata": {
  "kernelspec": {
   "name": "python3",
   "display_name": "Python 3.8.11 64-bit ('rsd': conda)"
  },
  "language_info": {
   "codemirror_mode": {
    "name": "ipython",
    "version": 3
   },
   "file_extension": ".py",
   "mimetype": "text/x-python",
   "name": "python",
   "nbconvert_exporter": "python",
   "pygments_lexer": "ipython3",
   "version": "3.8.11"
  },
  "interpreter": {
   "hash": "42f74353e3a9b5a4cb43330aab4e888bd8c99887f1f7b7373840781ed1656684"
  }
 },
 "nbformat": 4,
 "nbformat_minor": 1
}