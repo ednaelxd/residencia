{
 "cells": [
  {
   "cell_type": "code",
   "execution_count": 1,
   "metadata": {},
   "outputs": [],
   "source": [
    "import pandas as pd\n",
    "import numpy as np\n",
    "import matplotlib as mth"
   ]
  },
  {
   "cell_type": "markdown",
   "metadata": {},
   "source": [
    "# Importação"
   ]
  },
  {
   "cell_type": "code",
   "execution_count": 2,
   "metadata": {},
   "outputs": [],
   "source": [
    "dollar=pd.read_excel(\"./datas/dolarBRL2011.2021.xlsx\")\n",
    "barril=pd.read_excel(\"./datas/petroleo.2011.2021.xlsx\")\n",
    "gasolina=pd.read_excel(\"./datas/mensal-brasil-desde-jan2013.xlsx\")"
   ]
  },
  {
   "cell_type": "markdown",
   "metadata": {},
   "source": [
    "# Tratamento dos dados"
   ]
  },
  {
   "cell_type": "markdown",
   "metadata": {},
   "source": [
    "## Gasolina\n",
    "- Inserção dos dados de 2011 e 2012 à base"
   ]
  },
  {
   "cell_type": "code",
   "execution_count": 3,
   "metadata": {},
   "outputs": [],
   "source": [
    "gas2=pd.read_csv(\"./datas/ca-2011-01.csv\")\n",
    "gas3=pd.read_csv(\"./datas/ca-2011-02.csv\")\n",
    "gas4=pd.read_csv(\"./datas/ca-2012-01.csv\")\n",
    "gas5=pd.read_csv(\"./datas/ca-2012-02.csv\")\n"
   ]
  },
  {
   "cell_type": "code",
   "execution_count": 4,
   "metadata": {},
   "outputs": [],
   "source": [
    "gasgas=pd.concat([gas2,gas3,gas4,gas5])"
   ]
  },
  {
   "cell_type": "code",
   "execution_count": 5,
   "metadata": {},
   "outputs": [],
   "source": [
    "gasgas.set_index('Data da Coleta',inplace=True,drop=False)\n",
    "gasgas.rename_axis('Período',inplace=True)"
   ]
  },
  {
   "cell_type": "code",
   "execution_count": 6,
   "metadata": {},
   "outputs": [],
   "source": [
    "def_gasAntes=gasgas[gasgas['Produto']=='GASOLINA']"
   ]
  },
  {
   "cell_type": "code",
   "execution_count": null,
   "metadata": {},
   "outputs": [],
   "source": [
    "def_gasAntes.drop(['Municipio','Revenda','CNPJ da Revenda','Nome da Rua','Complemento','Bairro','Cep'],axis=1,inplace=True)\n",
    "def_gasAntes.drop(['Valor de Compra','Bandeira'],axis=1,inplace=True)"
   ]
  },
  {
   "cell_type": "code",
   "execution_count": null,
   "metadata": {},
   "outputs": [],
   "source": [
    "def_gasAntes['media_mes']=0.0\n",
    "def_gasAntes['dias_ok']=pd.to_datetime(def_gasAntes['Data da Coleta'],format=\"%d/%m/%Y\")\n",
    "def_gasAntes.sort_values('dias_ok',inplace=True)"
   ]
  },
  {
   "cell_type": "code",
   "execution_count": 20,
   "metadata": {},
   "outputs": [
    {
     "name": "stdout",
     "output_type": "stream",
     "text": [
      "01/2011\n"
     ]
    },
    {
     "name": "stderr",
     "output_type": "stream",
     "text": [
      "C:\\Users\\ednae\\AppData\\Local\\Temp/ipykernel_12828/1456385608.py:14: SettingWithCopyWarning: \n",
      "A value is trying to be set on a copy of a slice from a DataFrame\n",
      "\n",
      "See the caveats in the documentation: https://pandas.pydata.org/pandas-docs/stable/user_guide/indexing.html#returning-a-view-versus-a-copy\n",
      "  def_gasAntes['media_mes'][i]=soma/cont\n"
     ]
    },
    {
     "name": "stdout",
     "output_type": "stream",
     "text": [
      "terminou um mes\n",
      "01/2011\n",
      "02/2011\n",
      "terminou um mes\n",
      "02/2011\n",
      "03/2011\n",
      "terminou um mes\n",
      "03/2011\n",
      "04/2011\n",
      "terminou um mes\n",
      "04/2011\n",
      "05/2011\n",
      "terminou um mes\n",
      "05/2011\n",
      "06/2011\n",
      "terminou um mes\n",
      "06/2011\n",
      "07/2011\n",
      "terminou um mes\n",
      "07/2011\n",
      "08/2011\n",
      "terminou um mes\n",
      "08/2011\n",
      "09/2011\n",
      "terminou um mes\n",
      "09/2011\n",
      "10/2011\n",
      "terminou um mes\n",
      "10/2011\n",
      "11/2011\n",
      "terminou um mes\n",
      "11/2011\n",
      "12/2011\n",
      "terminou um mes\n",
      "12/2011\n",
      "01/2012\n",
      "terminou um mes\n",
      "01/2012\n",
      "02/2012\n",
      "terminou um mes\n",
      "02/2012\n",
      "03/2012\n",
      "terminou um mes\n",
      "03/2012\n",
      "04/2012\n",
      "terminou um mes\n",
      "04/2012\n",
      "05/2012\n",
      "terminou um mes\n",
      "05/2012\n",
      "06/2012\n",
      "terminou um mes\n",
      "06/2012\n",
      "07/2012\n",
      "terminou um mes\n",
      "07/2012\n",
      "08/2012\n",
      "terminou um mes\n",
      "08/2012\n",
      "09/2012\n",
      "terminou um mes\n",
      "09/2012\n",
      "10/2012\n",
      "terminou um mes\n",
      "10/2012\n",
      "11/2012\n",
      "terminou um mes\n",
      "11/2012\n",
      "12/2012\n"
     ]
    },
    {
     "ename": "IndexError",
     "evalue": "single positional indexer is out-of-bounds",
     "output_type": "error",
     "traceback": [
      "\u001b[1;31m---------------------------------------------------------------------------\u001b[0m",
      "\u001b[1;31mIndexError\u001b[0m                                Traceback (most recent call last)",
      "\u001b[1;32m~\\AppData\\Local\\Temp/ipykernel_12828/1456385608.py\u001b[0m in \u001b[0;36m<module>\u001b[1;34m\u001b[0m\n\u001b[0;32m      6\u001b[0m     \u001b[0mprint\u001b[0m\u001b[1;33m(\u001b[0m\u001b[0mdef_gasAntes\u001b[0m\u001b[1;33m.\u001b[0m\u001b[0miloc\u001b[0m\u001b[1;33m[\u001b[0m\u001b[0mi\u001b[0m\u001b[1;33m,\u001b[0m\u001b[1;36m4\u001b[0m\u001b[1;33m]\u001b[0m\u001b[1;33m[\u001b[0m\u001b[1;36m3\u001b[0m\u001b[1;33m:\u001b[0m\u001b[1;33m]\u001b[0m\u001b[1;33m)\u001b[0m\u001b[1;33m\u001b[0m\u001b[1;33m\u001b[0m\u001b[0m\n\u001b[0;32m      7\u001b[0m     \u001b[1;32mwhile\u001b[0m \u001b[0mcontinua\u001b[0m \u001b[1;32mand\u001b[0m \u001b[0mi\u001b[0m\u001b[1;33m<=\u001b[0m\u001b[0mdef_gasAntes\u001b[0m\u001b[1;33m[\u001b[0m\u001b[1;34m'media_mes'\u001b[0m\u001b[1;33m]\u001b[0m\u001b[1;33m.\u001b[0m\u001b[0m__len__\u001b[0m\u001b[1;33m(\u001b[0m\u001b[1;33m)\u001b[0m\u001b[1;33m:\u001b[0m\u001b[1;33m\u001b[0m\u001b[1;33m\u001b[0m\u001b[0m\n\u001b[1;32m----> 8\u001b[1;33m         \u001b[1;32mif\u001b[0m \u001b[0mdef_gasAntes\u001b[0m\u001b[1;33m.\u001b[0m\u001b[0miloc\u001b[0m\u001b[1;33m[\u001b[0m\u001b[0mi\u001b[0m\u001b[1;33m,\u001b[0m\u001b[1;36m4\u001b[0m\u001b[1;33m]\u001b[0m\u001b[1;33m[\u001b[0m\u001b[1;36m3\u001b[0m\u001b[1;33m:\u001b[0m\u001b[1;33m]\u001b[0m\u001b[1;33m==\u001b[0m\u001b[0mdef_gasAntes\u001b[0m\u001b[1;33m.\u001b[0m\u001b[0miloc\u001b[0m\u001b[1;33m[\u001b[0m\u001b[0mi\u001b[0m\u001b[1;33m+\u001b[0m\u001b[1;36m1\u001b[0m\u001b[1;33m,\u001b[0m\u001b[1;36m4\u001b[0m\u001b[1;33m]\u001b[0m\u001b[1;33m[\u001b[0m\u001b[1;36m3\u001b[0m\u001b[1;33m:\u001b[0m\u001b[1;33m]\u001b[0m\u001b[1;33m:\u001b[0m\u001b[1;33m\u001b[0m\u001b[1;33m\u001b[0m\u001b[0m\n\u001b[0m\u001b[0;32m      9\u001b[0m             \u001b[0msoma\u001b[0m\u001b[1;33m+=\u001b[0m\u001b[0mdef_gasAntes\u001b[0m\u001b[1;33m.\u001b[0m\u001b[0miloc\u001b[0m\u001b[1;33m[\u001b[0m\u001b[0mi\u001b[0m\u001b[1;33m,\u001b[0m\u001b[1;36m5\u001b[0m\u001b[1;33m]\u001b[0m\u001b[1;33m\u001b[0m\u001b[1;33m\u001b[0m\u001b[0m\n\u001b[0;32m     10\u001b[0m             \u001b[0mcont\u001b[0m\u001b[1;33m+=\u001b[0m\u001b[1;36m1\u001b[0m\u001b[1;33m\u001b[0m\u001b[1;33m\u001b[0m\u001b[0m\n",
      "\u001b[1;32m~\\anaconda3\\envs\\rsd\\lib\\site-packages\\pandas\\core\\indexing.py\u001b[0m in \u001b[0;36m__getitem__\u001b[1;34m(self, key)\u001b[0m\n\u001b[0;32m    923\u001b[0m                 \u001b[1;32mwith\u001b[0m \u001b[0msuppress\u001b[0m\u001b[1;33m(\u001b[0m\u001b[0mKeyError\u001b[0m\u001b[1;33m,\u001b[0m \u001b[0mIndexError\u001b[0m\u001b[1;33m)\u001b[0m\u001b[1;33m:\u001b[0m\u001b[1;33m\u001b[0m\u001b[1;33m\u001b[0m\u001b[0m\n\u001b[0;32m    924\u001b[0m                     \u001b[1;32mreturn\u001b[0m \u001b[0mself\u001b[0m\u001b[1;33m.\u001b[0m\u001b[0mobj\u001b[0m\u001b[1;33m.\u001b[0m\u001b[0m_get_value\u001b[0m\u001b[1;33m(\u001b[0m\u001b[1;33m*\u001b[0m\u001b[0mkey\u001b[0m\u001b[1;33m,\u001b[0m \u001b[0mtakeable\u001b[0m\u001b[1;33m=\u001b[0m\u001b[0mself\u001b[0m\u001b[1;33m.\u001b[0m\u001b[0m_takeable\u001b[0m\u001b[1;33m)\u001b[0m\u001b[1;33m\u001b[0m\u001b[1;33m\u001b[0m\u001b[0m\n\u001b[1;32m--> 925\u001b[1;33m             \u001b[1;32mreturn\u001b[0m \u001b[0mself\u001b[0m\u001b[1;33m.\u001b[0m\u001b[0m_getitem_tuple\u001b[0m\u001b[1;33m(\u001b[0m\u001b[0mkey\u001b[0m\u001b[1;33m)\u001b[0m\u001b[1;33m\u001b[0m\u001b[1;33m\u001b[0m\u001b[0m\n\u001b[0m\u001b[0;32m    926\u001b[0m         \u001b[1;32melse\u001b[0m\u001b[1;33m:\u001b[0m\u001b[1;33m\u001b[0m\u001b[1;33m\u001b[0m\u001b[0m\n\u001b[0;32m    927\u001b[0m             \u001b[1;31m# we by definition only have the 0th axis\u001b[0m\u001b[1;33m\u001b[0m\u001b[1;33m\u001b[0m\u001b[1;33m\u001b[0m\u001b[0m\n",
      "\u001b[1;32m~\\anaconda3\\envs\\rsd\\lib\\site-packages\\pandas\\core\\indexing.py\u001b[0m in \u001b[0;36m_getitem_tuple\u001b[1;34m(self, tup)\u001b[0m\n\u001b[0;32m   1504\u001b[0m     \u001b[1;32mdef\u001b[0m \u001b[0m_getitem_tuple\u001b[0m\u001b[1;33m(\u001b[0m\u001b[0mself\u001b[0m\u001b[1;33m,\u001b[0m \u001b[0mtup\u001b[0m\u001b[1;33m:\u001b[0m \u001b[0mtuple\u001b[0m\u001b[1;33m)\u001b[0m\u001b[1;33m:\u001b[0m\u001b[1;33m\u001b[0m\u001b[1;33m\u001b[0m\u001b[0m\n\u001b[0;32m   1505\u001b[0m \u001b[1;33m\u001b[0m\u001b[0m\n\u001b[1;32m-> 1506\u001b[1;33m         \u001b[0mself\u001b[0m\u001b[1;33m.\u001b[0m\u001b[0m_has_valid_tuple\u001b[0m\u001b[1;33m(\u001b[0m\u001b[0mtup\u001b[0m\u001b[1;33m)\u001b[0m\u001b[1;33m\u001b[0m\u001b[1;33m\u001b[0m\u001b[0m\n\u001b[0m\u001b[0;32m   1507\u001b[0m         \u001b[1;32mwith\u001b[0m \u001b[0msuppress\u001b[0m\u001b[1;33m(\u001b[0m\u001b[0mIndexingError\u001b[0m\u001b[1;33m)\u001b[0m\u001b[1;33m:\u001b[0m\u001b[1;33m\u001b[0m\u001b[1;33m\u001b[0m\u001b[0m\n\u001b[0;32m   1508\u001b[0m             \u001b[1;32mreturn\u001b[0m \u001b[0mself\u001b[0m\u001b[1;33m.\u001b[0m\u001b[0m_getitem_lowerdim\u001b[0m\u001b[1;33m(\u001b[0m\u001b[0mtup\u001b[0m\u001b[1;33m)\u001b[0m\u001b[1;33m\u001b[0m\u001b[1;33m\u001b[0m\u001b[0m\n",
      "\u001b[1;32m~\\anaconda3\\envs\\rsd\\lib\\site-packages\\pandas\\core\\indexing.py\u001b[0m in \u001b[0;36m_has_valid_tuple\u001b[1;34m(self, key)\u001b[0m\n\u001b[0;32m    752\u001b[0m         \u001b[1;32mfor\u001b[0m \u001b[0mi\u001b[0m\u001b[1;33m,\u001b[0m \u001b[0mk\u001b[0m \u001b[1;32min\u001b[0m \u001b[0menumerate\u001b[0m\u001b[1;33m(\u001b[0m\u001b[0mkey\u001b[0m\u001b[1;33m)\u001b[0m\u001b[1;33m:\u001b[0m\u001b[1;33m\u001b[0m\u001b[1;33m\u001b[0m\u001b[0m\n\u001b[0;32m    753\u001b[0m             \u001b[1;32mtry\u001b[0m\u001b[1;33m:\u001b[0m\u001b[1;33m\u001b[0m\u001b[1;33m\u001b[0m\u001b[0m\n\u001b[1;32m--> 754\u001b[1;33m                 \u001b[0mself\u001b[0m\u001b[1;33m.\u001b[0m\u001b[0m_validate_key\u001b[0m\u001b[1;33m(\u001b[0m\u001b[0mk\u001b[0m\u001b[1;33m,\u001b[0m \u001b[0mi\u001b[0m\u001b[1;33m)\u001b[0m\u001b[1;33m\u001b[0m\u001b[1;33m\u001b[0m\u001b[0m\n\u001b[0m\u001b[0;32m    755\u001b[0m             \u001b[1;32mexcept\u001b[0m \u001b[0mValueError\u001b[0m \u001b[1;32mas\u001b[0m \u001b[0merr\u001b[0m\u001b[1;33m:\u001b[0m\u001b[1;33m\u001b[0m\u001b[1;33m\u001b[0m\u001b[0m\n\u001b[0;32m    756\u001b[0m                 raise ValueError(\n",
      "\u001b[1;32m~\\anaconda3\\envs\\rsd\\lib\\site-packages\\pandas\\core\\indexing.py\u001b[0m in \u001b[0;36m_validate_key\u001b[1;34m(self, key, axis)\u001b[0m\n\u001b[0;32m   1407\u001b[0m             \u001b[1;32mreturn\u001b[0m\u001b[1;33m\u001b[0m\u001b[1;33m\u001b[0m\u001b[0m\n\u001b[0;32m   1408\u001b[0m         \u001b[1;32melif\u001b[0m \u001b[0mis_integer\u001b[0m\u001b[1;33m(\u001b[0m\u001b[0mkey\u001b[0m\u001b[1;33m)\u001b[0m\u001b[1;33m:\u001b[0m\u001b[1;33m\u001b[0m\u001b[1;33m\u001b[0m\u001b[0m\n\u001b[1;32m-> 1409\u001b[1;33m             \u001b[0mself\u001b[0m\u001b[1;33m.\u001b[0m\u001b[0m_validate_integer\u001b[0m\u001b[1;33m(\u001b[0m\u001b[0mkey\u001b[0m\u001b[1;33m,\u001b[0m \u001b[0maxis\u001b[0m\u001b[1;33m)\u001b[0m\u001b[1;33m\u001b[0m\u001b[1;33m\u001b[0m\u001b[0m\n\u001b[0m\u001b[0;32m   1410\u001b[0m         \u001b[1;32melif\u001b[0m \u001b[0misinstance\u001b[0m\u001b[1;33m(\u001b[0m\u001b[0mkey\u001b[0m\u001b[1;33m,\u001b[0m \u001b[0mtuple\u001b[0m\u001b[1;33m)\u001b[0m\u001b[1;33m:\u001b[0m\u001b[1;33m\u001b[0m\u001b[1;33m\u001b[0m\u001b[0m\n\u001b[0;32m   1411\u001b[0m             \u001b[1;31m# a tuple should already have been caught by this point\u001b[0m\u001b[1;33m\u001b[0m\u001b[1;33m\u001b[0m\u001b[1;33m\u001b[0m\u001b[0m\n",
      "\u001b[1;32m~\\anaconda3\\envs\\rsd\\lib\\site-packages\\pandas\\core\\indexing.py\u001b[0m in \u001b[0;36m_validate_integer\u001b[1;34m(self, key, axis)\u001b[0m\n\u001b[0;32m   1498\u001b[0m         \u001b[0mlen_axis\u001b[0m \u001b[1;33m=\u001b[0m \u001b[0mlen\u001b[0m\u001b[1;33m(\u001b[0m\u001b[0mself\u001b[0m\u001b[1;33m.\u001b[0m\u001b[0mobj\u001b[0m\u001b[1;33m.\u001b[0m\u001b[0m_get_axis\u001b[0m\u001b[1;33m(\u001b[0m\u001b[0maxis\u001b[0m\u001b[1;33m)\u001b[0m\u001b[1;33m)\u001b[0m\u001b[1;33m\u001b[0m\u001b[1;33m\u001b[0m\u001b[0m\n\u001b[0;32m   1499\u001b[0m         \u001b[1;32mif\u001b[0m \u001b[0mkey\u001b[0m \u001b[1;33m>=\u001b[0m \u001b[0mlen_axis\u001b[0m \u001b[1;32mor\u001b[0m \u001b[0mkey\u001b[0m \u001b[1;33m<\u001b[0m \u001b[1;33m-\u001b[0m\u001b[0mlen_axis\u001b[0m\u001b[1;33m:\u001b[0m\u001b[1;33m\u001b[0m\u001b[1;33m\u001b[0m\u001b[0m\n\u001b[1;32m-> 1500\u001b[1;33m             \u001b[1;32mraise\u001b[0m \u001b[0mIndexError\u001b[0m\u001b[1;33m(\u001b[0m\u001b[1;34m\"single positional indexer is out-of-bounds\"\u001b[0m\u001b[1;33m)\u001b[0m\u001b[1;33m\u001b[0m\u001b[1;33m\u001b[0m\u001b[0m\n\u001b[0m\u001b[0;32m   1501\u001b[0m \u001b[1;33m\u001b[0m\u001b[0m\n\u001b[0;32m   1502\u001b[0m     \u001b[1;31m# -------------------------------------------------------------------\u001b[0m\u001b[1;33m\u001b[0m\u001b[1;33m\u001b[0m\u001b[1;33m\u001b[0m\u001b[0m\n",
      "\u001b[1;31mIndexError\u001b[0m: single positional indexer is out-of-bounds"
     ]
    }
   ],
   "source": [
    "i=0\n",
    "while i<=def_gasAntes['media_mes'].__len__():\n",
    "    continua=True\n",
    "    soma=0.0\n",
    "    cont=0\n",
    "    print(def_gasAntes.iloc[i,4][3:])\n",
    "    while continua and i<=def_gasAntes['media_mes'].__len__():\n",
    "        if def_gasAntes.iloc[i,4][3:]==def_gasAntes.iloc[i+1,4][3:]:\n",
    "            soma+=def_gasAntes.iloc[i,5]\n",
    "            cont+=1\n",
    "        elif (def_gasAntes.iloc[i,4][3:]!=def_gasAntes.iloc[i+1,4][3:]) or (i==def_gasAntes['media_mes'].__len__()):\n",
    "            soma+=def_gasAntes.iloc[i,5]\n",
    "            cont+=1\n",
    "            def_gasAntes['media_mes'][i]=soma/cont\n",
    "            continua=False\n",
    "            print('terminou um mes')\n",
    "            print(def_gasAntes.iloc[i,4][3:])\n",
    "        i+=1\n",
    "    #i+=1\n"
   ]
  },
  {
   "cell_type": "code",
   "execution_count": 19,
   "metadata": {},
   "outputs": [
    {
     "data": {
      "text/html": [
       "<div>\n",
       "<style scoped>\n",
       "    .dataframe tbody tr th:only-of-type {\n",
       "        vertical-align: middle;\n",
       "    }\n",
       "\n",
       "    .dataframe tbody tr th {\n",
       "        vertical-align: top;\n",
       "    }\n",
       "\n",
       "    .dataframe thead th {\n",
       "        text-align: right;\n",
       "    }\n",
       "</style>\n",
       "<table border=\"1\" class=\"dataframe\">\n",
       "  <thead>\n",
       "    <tr style=\"text-align: right;\">\n",
       "      <th></th>\n",
       "      <th>Regiao - Sigla</th>\n",
       "      <th>Estado - Sigla</th>\n",
       "      <th>Numero Rua</th>\n",
       "      <th>Produto</th>\n",
       "      <th>Data da Coleta</th>\n",
       "      <th>Valor de Venda</th>\n",
       "      <th>Unidade de Medida</th>\n",
       "      <th>media_mes</th>\n",
       "      <th>dias_ok</th>\n",
       "    </tr>\n",
       "    <tr>\n",
       "      <th>Período</th>\n",
       "      <th></th>\n",
       "      <th></th>\n",
       "      <th></th>\n",
       "      <th></th>\n",
       "      <th></th>\n",
       "      <th></th>\n",
       "      <th></th>\n",
       "      <th></th>\n",
       "      <th></th>\n",
       "    </tr>\n",
       "  </thead>\n",
       "  <tbody>\n",
       "    <tr>\n",
       "      <th>31/01/2011</th>\n",
       "      <td>CO</td>\n",
       "      <td>MS</td>\n",
       "      <td>S/N</td>\n",
       "      <td>GASOLINA</td>\n",
       "      <td>31/01/2011</td>\n",
       "      <td>2.890</td>\n",
       "      <td>R$ / litro</td>\n",
       "      <td>2.645239</td>\n",
       "      <td>2011-01-31</td>\n",
       "    </tr>\n",
       "    <tr>\n",
       "      <th>24/02/2011</th>\n",
       "      <td>S</td>\n",
       "      <td>RS</td>\n",
       "      <td>452</td>\n",
       "      <td>GASOLINA</td>\n",
       "      <td>24/02/2011</td>\n",
       "      <td>2.829</td>\n",
       "      <td>R$ / litro</td>\n",
       "      <td>2.651252</td>\n",
       "      <td>2011-02-24</td>\n",
       "    </tr>\n",
       "    <tr>\n",
       "      <th>31/03/2011</th>\n",
       "      <td>NE</td>\n",
       "      <td>PE</td>\n",
       "      <td>101</td>\n",
       "      <td>GASOLINA</td>\n",
       "      <td>31/03/2011</td>\n",
       "      <td>2.900</td>\n",
       "      <td>R$ / litro</td>\n",
       "      <td>2.692812</td>\n",
       "      <td>2011-03-31</td>\n",
       "    </tr>\n",
       "    <tr>\n",
       "      <th>28/04/2011</th>\n",
       "      <td>SE</td>\n",
       "      <td>RJ</td>\n",
       "      <td>2009</td>\n",
       "      <td>GASOLINA</td>\n",
       "      <td>28/04/2011</td>\n",
       "      <td>3.044</td>\n",
       "      <td>R$ / litro</td>\n",
       "      <td>2.842003</td>\n",
       "      <td>2011-04-28</td>\n",
       "    </tr>\n",
       "    <tr>\n",
       "      <th>31/05/2011</th>\n",
       "      <td>SE</td>\n",
       "      <td>SP</td>\n",
       "      <td>14611</td>\n",
       "      <td>GASOLINA</td>\n",
       "      <td>31/05/2011</td>\n",
       "      <td>2.590</td>\n",
       "      <td>R$ / litro</td>\n",
       "      <td>2.866933</td>\n",
       "      <td>2011-05-31</td>\n",
       "    </tr>\n",
       "    <tr>\n",
       "      <th>30/06/2011</th>\n",
       "      <td>N</td>\n",
       "      <td>AM</td>\n",
       "      <td>1887</td>\n",
       "      <td>GASOLINA</td>\n",
       "      <td>30/06/2011</td>\n",
       "      <td>3.030</td>\n",
       "      <td>R$ / litro</td>\n",
       "      <td>2.773994</td>\n",
       "      <td>2011-06-30</td>\n",
       "    </tr>\n",
       "    <tr>\n",
       "      <th>28/07/2011</th>\n",
       "      <td>SE</td>\n",
       "      <td>MG</td>\n",
       "      <td>1701</td>\n",
       "      <td>GASOLINA</td>\n",
       "      <td>28/07/2011</td>\n",
       "      <td>2.879</td>\n",
       "      <td>R$ / litro</td>\n",
       "      <td>2.767156</td>\n",
       "      <td>2011-07-28</td>\n",
       "    </tr>\n",
       "    <tr>\n",
       "      <th>31/08/2011</th>\n",
       "      <td>SE</td>\n",
       "      <td>RJ</td>\n",
       "      <td>754</td>\n",
       "      <td>GASOLINA</td>\n",
       "      <td>31/08/2011</td>\n",
       "      <td>2.699</td>\n",
       "      <td>R$ / litro</td>\n",
       "      <td>2.766778</td>\n",
       "      <td>2011-08-31</td>\n",
       "    </tr>\n",
       "    <tr>\n",
       "      <th>29/09/2011</th>\n",
       "      <td>S</td>\n",
       "      <td>SC</td>\n",
       "      <td>108</td>\n",
       "      <td>GASOLINA</td>\n",
       "      <td>29/09/2011</td>\n",
       "      <td>2.747</td>\n",
       "      <td>R$ / litro</td>\n",
       "      <td>2.773253</td>\n",
       "      <td>2011-09-29</td>\n",
       "    </tr>\n",
       "    <tr>\n",
       "      <th>31/10/2011</th>\n",
       "      <td>N</td>\n",
       "      <td>AC</td>\n",
       "      <td>1268</td>\n",
       "      <td>GASOLINA</td>\n",
       "      <td>31/10/2011</td>\n",
       "      <td>3.070</td>\n",
       "      <td>R$ / litro</td>\n",
       "      <td>2.777956</td>\n",
       "      <td>2011-10-31</td>\n",
       "    </tr>\n",
       "    <tr>\n",
       "      <th>30/11/2011</th>\n",
       "      <td>SE</td>\n",
       "      <td>MG</td>\n",
       "      <td>725</td>\n",
       "      <td>GASOLINA</td>\n",
       "      <td>30/11/2011</td>\n",
       "      <td>2.890</td>\n",
       "      <td>R$ / litro</td>\n",
       "      <td>2.777526</td>\n",
       "      <td>2011-11-30</td>\n",
       "    </tr>\n",
       "    <tr>\n",
       "      <th>29/12/2011</th>\n",
       "      <td>S</td>\n",
       "      <td>PR</td>\n",
       "      <td>1220</td>\n",
       "      <td>GASOLINA</td>\n",
       "      <td>29/12/2011</td>\n",
       "      <td>2.649</td>\n",
       "      <td>R$ / litro</td>\n",
       "      <td>2.780854</td>\n",
       "      <td>2011-12-29</td>\n",
       "    </tr>\n",
       "    <tr>\n",
       "      <th>31/01/2012</th>\n",
       "      <td>N</td>\n",
       "      <td>AM</td>\n",
       "      <td>357</td>\n",
       "      <td>GASOLINA</td>\n",
       "      <td>31/01/2012</td>\n",
       "      <td>2.880</td>\n",
       "      <td>R$ / litro</td>\n",
       "      <td>2.775390</td>\n",
       "      <td>2012-01-31</td>\n",
       "    </tr>\n",
       "    <tr>\n",
       "      <th>29/02/2012</th>\n",
       "      <td>SE</td>\n",
       "      <td>RJ</td>\n",
       "      <td>465</td>\n",
       "      <td>GASOLINA</td>\n",
       "      <td>29/02/2012</td>\n",
       "      <td>2.899</td>\n",
       "      <td>R$ / litro</td>\n",
       "      <td>2.769141</td>\n",
       "      <td>2012-02-29</td>\n",
       "    </tr>\n",
       "    <tr>\n",
       "      <th>29/03/2012</th>\n",
       "      <td>S</td>\n",
       "      <td>PR</td>\n",
       "      <td>S/N</td>\n",
       "      <td>GASOLINA</td>\n",
       "      <td>29/03/2012</td>\n",
       "      <td>2.780</td>\n",
       "      <td>R$ / litro</td>\n",
       "      <td>2.770964</td>\n",
       "      <td>2012-03-29</td>\n",
       "    </tr>\n",
       "    <tr>\n",
       "      <th>30/04/2012</th>\n",
       "      <td>SE</td>\n",
       "      <td>SP</td>\n",
       "      <td>39</td>\n",
       "      <td>GASOLINA</td>\n",
       "      <td>30/04/2012</td>\n",
       "      <td>2.749</td>\n",
       "      <td>R$ / litro</td>\n",
       "      <td>2.769274</td>\n",
       "      <td>2012-04-30</td>\n",
       "    </tr>\n",
       "    <tr>\n",
       "      <th>31/05/2012</th>\n",
       "      <td>SE</td>\n",
       "      <td>SP</td>\n",
       "      <td>2100</td>\n",
       "      <td>GASOLINA</td>\n",
       "      <td>31/05/2012</td>\n",
       "      <td>2.699</td>\n",
       "      <td>R$ / litro</td>\n",
       "      <td>2.766385</td>\n",
       "      <td>2012-05-31</td>\n",
       "    </tr>\n",
       "    <tr>\n",
       "      <th>28/06/2012</th>\n",
       "      <td>SE</td>\n",
       "      <td>SP</td>\n",
       "      <td>1940</td>\n",
       "      <td>GASOLINA</td>\n",
       "      <td>28/06/2012</td>\n",
       "      <td>2.540</td>\n",
       "      <td>R$ / litro</td>\n",
       "      <td>2.762338</td>\n",
       "      <td>2012-06-28</td>\n",
       "    </tr>\n",
       "    <tr>\n",
       "      <th>31/07/2012</th>\n",
       "      <td>S</td>\n",
       "      <td>PR</td>\n",
       "      <td>9930</td>\n",
       "      <td>GASOLINA</td>\n",
       "      <td>31/07/2012</td>\n",
       "      <td>2.820</td>\n",
       "      <td>R$ / litro</td>\n",
       "      <td>2.759325</td>\n",
       "      <td>2012-07-31</td>\n",
       "    </tr>\n",
       "    <tr>\n",
       "      <th>30/08/2012</th>\n",
       "      <td>SE</td>\n",
       "      <td>SP</td>\n",
       "      <td>15</td>\n",
       "      <td>GASOLINA</td>\n",
       "      <td>30/08/2012</td>\n",
       "      <td>2.799</td>\n",
       "      <td>R$ / litro</td>\n",
       "      <td>2.759114</td>\n",
       "      <td>2012-08-30</td>\n",
       "    </tr>\n",
       "    <tr>\n",
       "      <th>27/09/2012</th>\n",
       "      <td>SE</td>\n",
       "      <td>MG</td>\n",
       "      <td>330</td>\n",
       "      <td>GASOLINA</td>\n",
       "      <td>27/09/2012</td>\n",
       "      <td>2.749</td>\n",
       "      <td>R$ / litro</td>\n",
       "      <td>2.757371</td>\n",
       "      <td>2012-09-27</td>\n",
       "    </tr>\n",
       "    <tr>\n",
       "      <th>31/10/2012</th>\n",
       "      <td>CO</td>\n",
       "      <td>GO</td>\n",
       "      <td>944</td>\n",
       "      <td>GASOLINA</td>\n",
       "      <td>31/10/2012</td>\n",
       "      <td>2.830</td>\n",
       "      <td>R$ / litro</td>\n",
       "      <td>2.762849</td>\n",
       "      <td>2012-10-31</td>\n",
       "    </tr>\n",
       "    <tr>\n",
       "      <th>29/11/2012</th>\n",
       "      <td>SE</td>\n",
       "      <td>RJ</td>\n",
       "      <td>S/N</td>\n",
       "      <td>GASOLINA</td>\n",
       "      <td>29/11/2012</td>\n",
       "      <td>3.599</td>\n",
       "      <td>R$ / litro</td>\n",
       "      <td>2.771495</td>\n",
       "      <td>2012-11-29</td>\n",
       "    </tr>\n",
       "  </tbody>\n",
       "</table>\n",
       "</div>"
      ],
      "text/plain": [
       "           Regiao - Sigla Estado - Sigla Numero Rua   Produto Data da Coleta  \\\n",
       "Período                                                                        \n",
       "31/01/2011             CO             MS        S/N  GASOLINA     31/01/2011   \n",
       "24/02/2011              S             RS        452  GASOLINA     24/02/2011   \n",
       "31/03/2011             NE             PE        101  GASOLINA     31/03/2011   \n",
       "28/04/2011             SE             RJ       2009  GASOLINA     28/04/2011   \n",
       "31/05/2011             SE             SP      14611  GASOLINA     31/05/2011   \n",
       "30/06/2011              N             AM       1887  GASOLINA     30/06/2011   \n",
       "28/07/2011             SE             MG       1701  GASOLINA     28/07/2011   \n",
       "31/08/2011             SE             RJ        754  GASOLINA     31/08/2011   \n",
       "29/09/2011              S             SC        108  GASOLINA     29/09/2011   \n",
       "31/10/2011              N             AC       1268  GASOLINA     31/10/2011   \n",
       "30/11/2011             SE             MG        725  GASOLINA     30/11/2011   \n",
       "29/12/2011              S             PR       1220  GASOLINA     29/12/2011   \n",
       "31/01/2012              N             AM        357  GASOLINA     31/01/2012   \n",
       "29/02/2012             SE             RJ        465  GASOLINA     29/02/2012   \n",
       "29/03/2012              S             PR        S/N  GASOLINA     29/03/2012   \n",
       "30/04/2012             SE             SP         39  GASOLINA     30/04/2012   \n",
       "31/05/2012             SE             SP       2100  GASOLINA     31/05/2012   \n",
       "28/06/2012             SE             SP       1940  GASOLINA     28/06/2012   \n",
       "31/07/2012              S             PR       9930  GASOLINA     31/07/2012   \n",
       "30/08/2012             SE             SP         15  GASOLINA     30/08/2012   \n",
       "27/09/2012             SE             MG        330  GASOLINA     27/09/2012   \n",
       "31/10/2012             CO             GO        944  GASOLINA     31/10/2012   \n",
       "29/11/2012             SE             RJ        S/N  GASOLINA     29/11/2012   \n",
       "\n",
       "            Valor de Venda Unidade de Medida  media_mes    dias_ok  \n",
       "Período                                                             \n",
       "31/01/2011           2.890        R$ / litro   2.645239 2011-01-31  \n",
       "24/02/2011           2.829        R$ / litro   2.651252 2011-02-24  \n",
       "31/03/2011           2.900        R$ / litro   2.692812 2011-03-31  \n",
       "28/04/2011           3.044        R$ / litro   2.842003 2011-04-28  \n",
       "31/05/2011           2.590        R$ / litro   2.866933 2011-05-31  \n",
       "30/06/2011           3.030        R$ / litro   2.773994 2011-06-30  \n",
       "28/07/2011           2.879        R$ / litro   2.767156 2011-07-28  \n",
       "31/08/2011           2.699        R$ / litro   2.766778 2011-08-31  \n",
       "29/09/2011           2.747        R$ / litro   2.773253 2011-09-29  \n",
       "31/10/2011           3.070        R$ / litro   2.777956 2011-10-31  \n",
       "30/11/2011           2.890        R$ / litro   2.777526 2011-11-30  \n",
       "29/12/2011           2.649        R$ / litro   2.780854 2011-12-29  \n",
       "31/01/2012           2.880        R$ / litro   2.775390 2012-01-31  \n",
       "29/02/2012           2.899        R$ / litro   2.769141 2012-02-29  \n",
       "29/03/2012           2.780        R$ / litro   2.770964 2012-03-29  \n",
       "30/04/2012           2.749        R$ / litro   2.769274 2012-04-30  \n",
       "31/05/2012           2.699        R$ / litro   2.766385 2012-05-31  \n",
       "28/06/2012           2.540        R$ / litro   2.762338 2012-06-28  \n",
       "31/07/2012           2.820        R$ / litro   2.759325 2012-07-31  \n",
       "30/08/2012           2.799        R$ / litro   2.759114 2012-08-30  \n",
       "27/09/2012           2.749        R$ / litro   2.757371 2012-09-27  \n",
       "31/10/2012           2.830        R$ / litro   2.762849 2012-10-31  \n",
       "29/11/2012           3.599        R$ / litro   2.771495 2012-11-29  "
      ]
     },
     "execution_count": 19,
     "metadata": {},
     "output_type": "execute_result"
    }
   ],
   "source": [
    "def_gasAntes[def_gasAntes['media_mes']!=0]"
   ]
  },
  {
   "cell_type": "markdown",
   "metadata": {},
   "source": [
    "- Tratamento da base 2013~2021"
   ]
  },
  {
   "cell_type": "code",
   "execution_count": null,
   "metadata": {},
   "outputs": [],
   "source": [
    "#REMOÇÃO DAS COLUNAS INDESEJADAS\n",
    "gasolina.drop('NÚMERO DE POSTOS PESQUISADOS',axis=1,inplace=True)\n",
    "#especifico a coluna que desejo, axis=1 é para coluna. inplace muda a bse original\n",
    "gasolina.drop('DESVIO PADRÃO REVENDA',axis=1,inplace=True)\n",
    "gasolina.drop('PREÇO MÍNIMO REVENDA',axis=1,inplace=True)\n",
    "gasolina.drop('PREÇO MÁXIMO REVENDA',axis=1,inplace=True)\n",
    "gasolina.drop(['DESVIO PADRÃO DISTRIBUIÇÃO','PREÇO MÍNIMO DISTRIBUIÇÃO','PREÇO MÁXIMO DISTRIBUIÇÃO'],axis=1,inplace=True)\n",
    "\n",
    "df_gasolina=gasolina[gasolina.iloc[0:,1]=='GASOLINA COMUM']\n",
    "df_gasolina.set_index(df_gasolina['MÊS'],inplace=True)\n",
    "df_gasolina.rename_axis(index={'MÊS':'Período'},inplace=True)\n",
    "df_gasolina.drop('MÊS',axis=1,inplace=True)"
   ]
  },
  {
   "cell_type": "markdown",
   "metadata": {},
   "source": [
    "# Enriquecimento de dados\n",
    "- Adição de informações\n",
    "- Plotagens iniciais\n",
    "- Compreensão univariada"
   ]
  },
  {
   "cell_type": "markdown",
   "metadata": {},
   "source": [
    "## Dollar"
   ]
  },
  {
   "cell_type": "code",
   "execution_count": 23,
   "metadata": {},
   "outputs": [],
   "source": [
    "#Criação de um valor médio para variação do dollar\n",
    "dollar['V.Médio']=(dollar['Máxima']+dollar['Mínima'])/2\n",
    "dollar.set_index('Data',inplace=True)\n",
    "dollar.rename_axis('Período',inplace=True)"
   ]
  },
  {
   "cell_type": "code",
   "execution_count": 24,
   "metadata": {},
   "outputs": [
    {
     "name": "stderr",
     "output_type": "stream",
     "text": [
      "C:\\Users\\ednae\\anaconda3\\envs\\rsd\\lib\\site-packages\\pandas\\core\\indexing.py:862: FutureWarning: Value based partial slicing on non-monotonic DatetimeIndexes with non-existing keys is deprecated and will raise a KeyError in a future Version.\n",
      "  return getattr(section, self.name)[new_key]\n"
     ]
    },
    {
     "data": {
      "text/plain": [
       "<AxesSubplot:xlabel='Período'>"
      ]
     },
     "execution_count": 24,
     "metadata": {},
     "output_type": "execute_result"
    },
    {
     "data": {
      "image/png": "[encoded data removed]",
      "text/plain": [
       "<Figure size 432x288 with 1 Axes>"
      ]
     },
     "metadata": {
      "needs_background": "light"
     },
     "output_type": "display_data"
    }
   ],
   "source": [
    "dollar.loc['2013-01-1':,'V.Médio'].plot()"
   ]
  },
  {
   "cell_type": "code",
   "execution_count": 25,
   "metadata": {},
   "outputs": [],
   "source": [
    "#Normalizando pelo valor máximo\n",
    "dollar['VU$.Norm']=dollar['V.Médio']/dollar['V.Médio'].max()"
   ]
  },
  {
   "cell_type": "code",
   "execution_count": 51,
   "metadata": {},
   "outputs": [],
   "source": [
    "dollar['pct_change']=dollar['V.Médio'].pct_change()*100"
   ]
  },
  {
   "cell_type": "code",
   "execution_count": 58,
   "metadata": {},
   "outputs": [
    {
     "name": "stderr",
     "output_type": "stream",
     "text": [
      "C:\\Users\\ednae\\anaconda3\\envs\\rsd\\lib\\site-packages\\pandas\\core\\indexing.py:862: FutureWarning: Value based partial slicing on non-monotonic DatetimeIndexes with non-existing keys is deprecated and will raise a KeyError in a future Version.\n",
      "  return getattr(section, self.name)[new_key]\n"
     ]
    },
    {
     "data": {
      "text/plain": [
       "<AxesSubplot:xlabel='Período'>"
      ]
     },
     "execution_count": 58,
     "metadata": {},
     "output_type": "execute_result"
    },
    {
     "data": {
      "image/png": "[encoded data removed]",
      "text/plain": [
       "<Figure size 432x288 with 1 Axes>"
      ]
     },
     "metadata": {
      "needs_background": "light"
     },
     "output_type": "display_data"
    }
   ],
   "source": [
    "dollar.loc['2013-01-1':,'pct_change'].plot()"
   ]
  },
  {
   "cell_type": "code",
   "execution_count": 61,
   "metadata": {},
   "outputs": [
    {
     "name": "stderr",
     "output_type": "stream",
     "text": [
      "C:\\Users\\ednae\\anaconda3\\envs\\rsd\\lib\\site-packages\\pandas\\core\\indexing.py:862: FutureWarning: Value based partial slicing on non-monotonic DatetimeIndexes with non-existing keys is deprecated and will raise a KeyError in a future Version.\n",
      "  return getattr(section, self.name)[new_key]\n"
     ]
    },
    {
     "data": {
      "text/plain": [
       "<AxesSubplot:xlabel='Período'>"
      ]
     },
     "execution_count": 61,
     "metadata": {},
     "output_type": "execute_result"
    },
    {
     "data": {
      "image/png": "[encoded data removed]",
      "text/plain": [
       "<Figure size 432x288 with 1 Axes>"
      ]
     },
     "metadata": {
      "needs_background": "light"
     },
     "output_type": "display_data"
    }
   ],
   "source": [
    "dollar.loc['2013-01-1':,'VU$.Norm'].plot()"
   ]
  },
  {
   "cell_type": "markdown",
   "metadata": {},
   "source": [
    "## Barril"
   ]
  },
  {
   "cell_type": "code",
   "execution_count": 83,
   "metadata": {},
   "outputs": [],
   "source": [
    "barril['V.Médio']=(barril['Máxima']+barril['Mínima'])/2\n",
    "barril.set_index('Data',inplace=True,drop=False)\n",
    "barril.rename_axis('Período',inplace=True)"
   ]
  },
  {
   "cell_type": "code",
   "execution_count": 84,
   "metadata": {},
   "outputs": [],
   "source": [
    "barril['pct_change']=barril['V.Médio'].pct_change()*100"
   ]
  },
  {
   "cell_type": "code",
   "execution_count": 85,
   "metadata": {},
   "outputs": [
    {
     "data": {
      "text/html": [
       "<div>\n",
       "<style scoped>\n",
       "    .dataframe tbody tr th:only-of-type {\n",
       "        vertical-align: middle;\n",
       "    }\n",
       "\n",
       "    .dataframe tbody tr th {\n",
       "        vertical-align: top;\n",
       "    }\n",
       "\n",
       "    .dataframe thead th {\n",
       "        text-align: right;\n",
       "    }\n",
       "</style>\n",
       "<table border=\"1\" class=\"dataframe\">\n",
       "  <thead>\n",
       "    <tr style=\"text-align: right;\">\n",
       "      <th></th>\n",
       "      <th>Data</th>\n",
       "      <th>Último</th>\n",
       "      <th>Abertura</th>\n",
       "      <th>Máxima</th>\n",
       "      <th>Mínima</th>\n",
       "      <th>Vol.</th>\n",
       "      <th>Var%</th>\n",
       "      <th>V.Médio</th>\n",
       "      <th>pct_change</th>\n",
       "    </tr>\n",
       "    <tr>\n",
       "      <th>Período</th>\n",
       "      <th></th>\n",
       "      <th></th>\n",
       "      <th></th>\n",
       "      <th></th>\n",
       "      <th></th>\n",
       "      <th></th>\n",
       "      <th></th>\n",
       "      <th></th>\n",
       "      <th></th>\n",
       "    </tr>\n",
       "  </thead>\n",
       "  <tbody>\n",
       "    <tr>\n",
       "      <th>2021-09-01</th>\n",
       "      <td>2021-09-01</td>\n",
       "      <td>78.25</td>\n",
       "      <td>71.68</td>\n",
       "      <td>79.94</td>\n",
       "      <td>70.42</td>\n",
       "      <td>97,97K</td>\n",
       "      <td>0.0721</td>\n",
       "      <td>75.180</td>\n",
       "      <td>NaN</td>\n",
       "    </tr>\n",
       "    <tr>\n",
       "      <th>2021-08-01</th>\n",
       "      <td>2021-08-01</td>\n",
       "      <td>72.99</td>\n",
       "      <td>75.39</td>\n",
       "      <td>75.39</td>\n",
       "      <td>64.60</td>\n",
       "      <td>5,51M</td>\n",
       "      <td>-0.0438</td>\n",
       "      <td>69.995</td>\n",
       "      <td>-6.896781</td>\n",
       "    </tr>\n",
       "    <tr>\n",
       "      <th>2021-07-01</th>\n",
       "      <td>2021-07-01</td>\n",
       "      <td>76.33</td>\n",
       "      <td>74.69</td>\n",
       "      <td>77.84</td>\n",
       "      <td>67.44</td>\n",
       "      <td>5,85M</td>\n",
       "      <td>0.0160</td>\n",
       "      <td>72.640</td>\n",
       "      <td>3.778841</td>\n",
       "    </tr>\n",
       "    <tr>\n",
       "      <th>2021-06-01</th>\n",
       "      <td>2021-06-01</td>\n",
       "      <td>75.13</td>\n",
       "      <td>69.39</td>\n",
       "      <td>76.60</td>\n",
       "      <td>69.29</td>\n",
       "      <td>5,06M</td>\n",
       "      <td>0.0838</td>\n",
       "      <td>72.945</td>\n",
       "      <td>0.419879</td>\n",
       "    </tr>\n",
       "    <tr>\n",
       "      <th>2021-05-01</th>\n",
       "      <td>2021-05-01</td>\n",
       "      <td>69.32</td>\n",
       "      <td>66.70</td>\n",
       "      <td>70.24</td>\n",
       "      <td>64.57</td>\n",
       "      <td>5,09M</td>\n",
       "      <td>0.0308</td>\n",
       "      <td>67.405</td>\n",
       "      <td>-7.594763</td>\n",
       "    </tr>\n",
       "  </tbody>\n",
       "</table>\n",
       "</div>"
      ],
      "text/plain": [
       "                 Data  Último  Abertura  Máxima  Mínima    Vol.    Var%  \\\n",
       "Período                                                                   \n",
       "2021-09-01 2021-09-01   78.25     71.68   79.94   70.42  97,97K  0.0721   \n",
       "2021-08-01 2021-08-01   72.99     75.39   75.39   64.60   5,51M -0.0438   \n",
       "2021-07-01 2021-07-01   76.33     74.69   77.84   67.44   5,85M  0.0160   \n",
       "2021-06-01 2021-06-01   75.13     69.39   76.60   69.29   5,06M  0.0838   \n",
       "2021-05-01 2021-05-01   69.32     66.70   70.24   64.57   5,09M  0.0308   \n",
       "\n",
       "            V.Médio  pct_change  \n",
       "Período                          \n",
       "2021-09-01   75.180         NaN  \n",
       "2021-08-01   69.995   -6.896781  \n",
       "2021-07-01   72.640    3.778841  \n",
       "2021-06-01   72.945    0.419879  \n",
       "2021-05-01   67.405   -7.594763  "
      ]
     },
     "execution_count": 85,
     "metadata": {},
     "output_type": "execute_result"
    }
   ],
   "source": [
    "barril.head()"
   ]
  },
  {
   "cell_type": "code",
   "execution_count": 56,
   "metadata": {},
   "outputs": [
    {
     "data": {
      "text/plain": [
       "<AxesSubplot:xlabel='Período'>"
      ]
     },
     "execution_count": 56,
     "metadata": {},
     "output_type": "execute_result"
    },
    {
     "data": {
      "image/png": "[encoded data removed]",
      "text/plain": [
       "<Figure size 432x288 with 1 Axes>"
      ]
     },
     "metadata": {
      "needs_background": "light"
     },
     "output_type": "display_data"
    }
   ],
   "source": [
    "barril['pct_change'].plot()"
   ]
  },
  {
   "cell_type": "code",
   "execution_count": 57,
   "metadata": {},
   "outputs": [
    {
     "name": "stderr",
     "output_type": "stream",
     "text": [
      "C:\\Users\\ednae\\anaconda3\\envs\\rsd\\lib\\site-packages\\pandas\\core\\indexing.py:862: FutureWarning: Value based partial slicing on non-monotonic DatetimeIndexes with non-existing keys is deprecated and will raise a KeyError in a future Version.\n",
      "  return getattr(section, self.name)[new_key]\n"
     ]
    },
    {
     "data": {
      "text/plain": [
       "<AxesSubplot:xlabel='Período'>"
      ]
     },
     "execution_count": 57,
     "metadata": {},
     "output_type": "execute_result"
    },
    {
     "data": {
      "image/png": "[encoded data removed]",
      "text/plain": [
       "<Figure size 432x288 with 1 Axes>"
      ]
     },
     "metadata": {
      "needs_background": "light"
     },
     "output_type": "display_data"
    }
   ],
   "source": [
    "barril['VBar.Norm']=barril['V.Médio']/barril['V.Médio'].max()\n",
    "barril.loc['2013-01-1':,'VBar.Norm'].plot()"
   ]
  },
  {
   "cell_type": "markdown",
   "metadata": {},
   "source": [
    "## Gasolina"
   ]
  },
  {
   "cell_type": "code",
   "execution_count": 32,
   "metadata": {},
   "outputs": [
    {
     "name": "stderr",
     "output_type": "stream",
     "text": [
      "C:\\Users\\ednae\\AppData\\Local\\Temp/ipykernel_1324/1712394270.py:1: SettingWithCopyWarning: \n",
      "A value is trying to be set on a copy of a slice from a DataFrame.\n",
      "Try using .loc[row_indexer,col_indexer] = value instead\n",
      "\n",
      "See the caveats in the documentation: https://pandas.pydata.org/pandas-docs/stable/user_guide/indexing.html#returning-a-view-versus-a-copy\n",
      "  df_gasolina['PMVGas.Norm']=df_gasolina['PREÇO MÉDIO REVENDA']/df_gasolina['PREÇO MÉDIO REVENDA'].max()\n"
     ]
    }
   ],
   "source": [
    "df_gasolina['PMVGas.Norm']=df_gasolina['PREÇO MÉDIO REVENDA']/df_gasolina['PREÇO MÉDIO REVENDA'].max()"
   ]
  },
  {
   "cell_type": "code",
   "execution_count": 46,
   "metadata": {},
   "outputs": [
    {
     "name": "stderr",
     "output_type": "stream",
     "text": [
      "C:\\Users\\ednae\\AppData\\Local\\Temp/ipykernel_1324/823332931.py:1: SettingWithCopyWarning: \n",
      "A value is trying to be set on a copy of a slice from a DataFrame.\n",
      "Try using .loc[row_indexer,col_indexer] = value instead\n",
      "\n",
      "See the caveats in the documentation: https://pandas.pydata.org/pandas-docs/stable/user_guide/indexing.html#returning-a-view-versus-a-copy\n",
      "  df_gasolina['pct_change']=df_gasolina['PREÇO MÉDIO REVENDA'].pct_change()*100\n"
     ]
    }
   ],
   "source": [
    "df_gasolina['pct_change']=df_gasolina['PREÇO MÉDIO REVENDA'].pct_change()*100"
   ]
  },
  {
   "cell_type": "code",
   "execution_count": 55,
   "metadata": {},
   "outputs": [
    {
     "data": {
      "text/plain": [
       "<AxesSubplot:xlabel='Período'>"
      ]
     },
     "execution_count": 55,
     "metadata": {},
     "output_type": "execute_result"
    },
    {
     "data": {
      "image/png": "[encoded data removed]",
      "text/plain": [
       "<Figure size 432x288 with 1 Axes>"
      ]
     },
     "metadata": {
      "needs_background": "light"
     },
     "output_type": "display_data"
    }
   ],
   "source": [
    "df_gasolina['pct_change'].plot()"
   ]
  },
  {
   "cell_type": "code",
   "execution_count": 54,
   "metadata": {},
   "outputs": [
    {
     "data": {
      "text/plain": [
       "<AxesSubplot:xlabel='Período'>"
      ]
     },
     "execution_count": 54,
     "metadata": {},
     "output_type": "execute_result"
    },
    {
     "data": {
      "image/png": "[encoded data removed]",
      "text/plain": [
       "<Figure size 432x288 with 1 Axes>"
      ]
     },
     "metadata": {
      "needs_background": "light"
     },
     "output_type": "display_data"
    }
   ],
   "source": [
    "df_gasolina['PREÇO MÉDIO REVENDA'].plot()"
   ]
  },
  {
   "cell_type": "markdown",
   "metadata": {},
   "source": [
    "# Avaliações combinadas"
   ]
  },
  {
   "cell_type": "code",
   "execution_count": 34,
   "metadata": {},
   "outputs": [
    {
     "name": "stderr",
     "output_type": "stream",
     "text": [
      "C:\\Users\\ednae\\anaconda3\\envs\\rsd\\lib\\site-packages\\pandas\\core\\indexing.py:862: FutureWarning: Value based partial slicing on non-monotonic DatetimeIndexes with non-existing keys is deprecated and will raise a KeyError in a future Version.\n",
      "  return getattr(section, self.name)[new_key]\n",
      "C:\\Users\\ednae\\anaconda3\\envs\\rsd\\lib\\site-packages\\pandas\\core\\indexing.py:862: FutureWarning: Value based partial slicing on non-monotonic DatetimeIndexes with non-existing keys is deprecated and will raise a KeyError in a future Version.\n",
      "  return getattr(section, self.name)[new_key]\n"
     ]
    },
    {
     "data": {
      "text/plain": [
       "<AxesSubplot:xlabel='Período'>"
      ]
     },
     "execution_count": 34,
     "metadata": {},
     "output_type": "execute_result"
    },
    {
     "data": {
      "image/png": "[encoded data removed]",
      "text/plain": [
       "<Figure size 432x288 with 1 Axes>"
      ]
     },
     "metadata": {
      "needs_background": "light"
     },
     "output_type": "display_data"
    }
   ],
   "source": [
    "df_gasolina['PMVGas.Norm'].plot(legend=True)\n",
    "barril.loc['2013-01-1':,'VBar.Norm'].plot(legend=True)\n",
    "dollar.loc['2013-01-1':,'VU$.Norm'].plot(legend=True)"
   ]
  },
  {
   "cell_type": "code",
   "execution_count": 35,
   "metadata": {},
   "outputs": [
    {
     "name": "stderr",
     "output_type": "stream",
     "text": [
      "C:\\Users\\ednae\\anaconda3\\envs\\rsd\\lib\\site-packages\\pandas\\core\\indexing.py:862: FutureWarning: Value based partial slicing on non-monotonic DatetimeIndexes with non-existing keys is deprecated and will raise a KeyError in a future Version.\n",
      "  return getattr(section, self.name)[new_key]\n"
     ]
    },
    {
     "data": {
      "text/html": [
       "<div>\n",
       "<style scoped>\n",
       "    .dataframe tbody tr th:only-of-type {\n",
       "        vertical-align: middle;\n",
       "    }\n",
       "\n",
       "    .dataframe tbody tr th {\n",
       "        vertical-align: top;\n",
       "    }\n",
       "\n",
       "    .dataframe thead th {\n",
       "        text-align: right;\n",
       "    }\n",
       "</style>\n",
       "<table border=\"1\" class=\"dataframe\">\n",
       "  <thead>\n",
       "    <tr style=\"text-align: right;\">\n",
       "      <th></th>\n",
       "      <th>PMVGas.Norm</th>\n",
       "      <th>VBar.Norm</th>\n",
       "      <th>VU$.Norm</th>\n",
       "    </tr>\n",
       "  </thead>\n",
       "  <tbody>\n",
       "    <tr>\n",
       "      <th>PMVGas.Norm</th>\n",
       "      <td>1.000000</td>\n",
       "      <td>-0.388830</td>\n",
       "      <td>0.832829</td>\n",
       "    </tr>\n",
       "    <tr>\n",
       "      <th>VBar.Norm</th>\n",
       "      <td>-0.388830</td>\n",
       "      <td>1.000000</td>\n",
       "      <td>-0.639191</td>\n",
       "    </tr>\n",
       "    <tr>\n",
       "      <th>VU$.Norm</th>\n",
       "      <td>0.832829</td>\n",
       "      <td>-0.639191</td>\n",
       "      <td>1.000000</td>\n",
       "    </tr>\n",
       "  </tbody>\n",
       "</table>\n",
       "</div>"
      ],
      "text/plain": [
       "             PMVGas.Norm  VBar.Norm  VU$.Norm\n",
       "PMVGas.Norm     1.000000  -0.388830  0.832829\n",
       "VBar.Norm      -0.388830   1.000000 -0.639191\n",
       "VU$.Norm        0.832829  -0.639191  1.000000"
      ]
     },
     "execution_count": 35,
     "metadata": {},
     "output_type": "execute_result"
    }
   ],
   "source": [
    "frames = pd.concat([df_gasolina['PMVGas.Norm'],barril.loc['2013-01-1':,'VBar.Norm'],dollar.loc['2013-01-1':,'VU$.Norm']],axis=1)\n",
    "frames.corr()"
   ]
  },
  {
   "cell_type": "code",
   "execution_count": 36,
   "metadata": {},
   "outputs": [
    {
     "data": {
      "text/html": [
       "<div>\n",
       "<style scoped>\n",
       "    .dataframe tbody tr th:only-of-type {\n",
       "        vertical-align: middle;\n",
       "    }\n",
       "\n",
       "    .dataframe tbody tr th {\n",
       "        vertical-align: top;\n",
       "    }\n",
       "\n",
       "    .dataframe thead th {\n",
       "        text-align: right;\n",
       "    }\n",
       "</style>\n",
       "<table border=\"1\" class=\"dataframe\">\n",
       "  <thead>\n",
       "    <tr style=\"text-align: right;\">\n",
       "      <th></th>\n",
       "      <th>PMVGas.Norm</th>\n",
       "      <th>VBar.Norm</th>\n",
       "      <th>VU$.Norm</th>\n",
       "    </tr>\n",
       "  </thead>\n",
       "  <tbody>\n",
       "    <tr>\n",
       "      <th>PMVGas.Norm</th>\n",
       "      <td>1.000000</td>\n",
       "      <td>0.655776</td>\n",
       "      <td>0.504830</td>\n",
       "    </tr>\n",
       "    <tr>\n",
       "      <th>VBar.Norm</th>\n",
       "      <td>0.655776</td>\n",
       "      <td>1.000000</td>\n",
       "      <td>0.026837</td>\n",
       "    </tr>\n",
       "    <tr>\n",
       "      <th>VU$.Norm</th>\n",
       "      <td>0.504830</td>\n",
       "      <td>0.026837</td>\n",
       "      <td>1.000000</td>\n",
       "    </tr>\n",
       "  </tbody>\n",
       "</table>\n",
       "</div>"
      ],
      "text/plain": [
       "             PMVGas.Norm  VBar.Norm  VU$.Norm\n",
       "PMVGas.Norm     1.000000   0.655776  0.504830\n",
       "VBar.Norm       0.655776   1.000000  0.026837\n",
       "VU$.Norm        0.504830   0.026837  1.000000"
      ]
     },
     "execution_count": 36,
     "metadata": {},
     "output_type": "execute_result"
    }
   ],
   "source": [
    "frames.loc['2015-01-01':'2019-01-01'].corr()\n",
    "#analisando apenas o período em questão"
   ]
  },
  {
   "cell_type": "code",
   "execution_count": 37,
   "metadata": {},
   "outputs": [
    {
     "data": {
      "text/html": [
       "<div>\n",
       "<style scoped>\n",
       "    .dataframe tbody tr th:only-of-type {\n",
       "        vertical-align: middle;\n",
       "    }\n",
       "\n",
       "    .dataframe tbody tr th {\n",
       "        vertical-align: top;\n",
       "    }\n",
       "\n",
       "    .dataframe thead th {\n",
       "        text-align: right;\n",
       "    }\n",
       "</style>\n",
       "<table border=\"1\" class=\"dataframe\">\n",
       "  <thead>\n",
       "    <tr style=\"text-align: right;\">\n",
       "      <th></th>\n",
       "      <th>PMVGas.Norm</th>\n",
       "      <th>VBar.Norm</th>\n",
       "      <th>VU$.Norm</th>\n",
       "    </tr>\n",
       "  </thead>\n",
       "  <tbody>\n",
       "    <tr>\n",
       "      <th>PMVGas.Norm</th>\n",
       "      <td>1.000000</td>\n",
       "      <td>0.525400</td>\n",
       "      <td>0.694387</td>\n",
       "    </tr>\n",
       "    <tr>\n",
       "      <th>VBar.Norm</th>\n",
       "      <td>0.525400</td>\n",
       "      <td>1.000000</td>\n",
       "      <td>-0.120171</td>\n",
       "    </tr>\n",
       "    <tr>\n",
       "      <th>VU$.Norm</th>\n",
       "      <td>0.694387</td>\n",
       "      <td>-0.120171</td>\n",
       "      <td>1.000000</td>\n",
       "    </tr>\n",
       "  </tbody>\n",
       "</table>\n",
       "</div>"
      ],
      "text/plain": [
       "             PMVGas.Norm  VBar.Norm  VU$.Norm\n",
       "PMVGas.Norm     1.000000   0.525400  0.694387\n",
       "VBar.Norm       0.525400   1.000000 -0.120171\n",
       "VU$.Norm        0.694387  -0.120171  1.000000"
      ]
     },
     "execution_count": 37,
     "metadata": {},
     "output_type": "execute_result"
    }
   ],
   "source": [
    "frames.loc['2015-01-01':].corr()"
   ]
  },
  {
   "cell_type": "code",
   "execution_count": 38,
   "metadata": {},
   "outputs": [
    {
     "data": {
      "text/html": [
       "<div>\n",
       "<style scoped>\n",
       "    .dataframe tbody tr th:only-of-type {\n",
       "        vertical-align: middle;\n",
       "    }\n",
       "\n",
       "    .dataframe tbody tr th {\n",
       "        vertical-align: top;\n",
       "    }\n",
       "\n",
       "    .dataframe thead th {\n",
       "        text-align: right;\n",
       "    }\n",
       "</style>\n",
       "<table border=\"1\" class=\"dataframe\">\n",
       "  <thead>\n",
       "    <tr style=\"text-align: right;\">\n",
       "      <th></th>\n",
       "      <th>PMVGas.Norm</th>\n",
       "      <th>VBar.Norm</th>\n",
       "      <th>VU$.Norm</th>\n",
       "    </tr>\n",
       "    <tr>\n",
       "      <th>Período</th>\n",
       "      <th></th>\n",
       "      <th></th>\n",
       "      <th></th>\n",
       "    </tr>\n",
       "  </thead>\n",
       "  <tbody>\n",
       "    <tr>\n",
       "      <th>2015-01-01</th>\n",
       "      <td>0.498848</td>\n",
       "      <td>0.415968</td>\n",
       "      <td>0.466182</td>\n",
       "    </tr>\n",
       "    <tr>\n",
       "      <th>2015-02-01</th>\n",
       "      <td>0.543106</td>\n",
       "      <td>0.458796</td>\n",
       "      <td>0.493206</td>\n",
       "    </tr>\n",
       "    <tr>\n",
       "      <th>2015-03-01</th>\n",
       "      <td>0.546726</td>\n",
       "      <td>0.461162</td>\n",
       "      <td>0.543423</td>\n",
       "    </tr>\n",
       "    <tr>\n",
       "      <th>2015-04-01</th>\n",
       "      <td>0.544258</td>\n",
       "      <td>0.484942</td>\n",
       "      <td>0.536484</td>\n",
       "    </tr>\n",
       "    <tr>\n",
       "      <th>2015-05-01</th>\n",
       "      <td>0.542777</td>\n",
       "      <td>0.524803</td>\n",
       "      <td>0.544430</td>\n",
       "    </tr>\n",
       "    <tr>\n",
       "      <th>2015-06-01</th>\n",
       "      <td>0.543106</td>\n",
       "      <td>0.510486</td>\n",
       "      <td>0.551245</td>\n",
       "    </tr>\n",
       "    <tr>\n",
       "      <th>2015-07-01</th>\n",
       "      <td>0.542284</td>\n",
       "      <td>0.461082</td>\n",
       "      <td>0.576309</td>\n",
       "    </tr>\n",
       "    <tr>\n",
       "      <th>2015-08-01</th>\n",
       "      <td>0.542119</td>\n",
       "      <td>0.387176</td>\n",
       "      <td>0.627224</td>\n",
       "    </tr>\n",
       "    <tr>\n",
       "      <th>2015-09-01</th>\n",
       "      <td>0.539158</td>\n",
       "      <td>0.398805</td>\n",
       "      <td>0.694568</td>\n",
       "    </tr>\n",
       "    <tr>\n",
       "      <th>2015-10-01</th>\n",
       "      <td>0.572557</td>\n",
       "      <td>0.402855</td>\n",
       "      <td>0.685889</td>\n",
       "    </tr>\n",
       "    <tr>\n",
       "      <th>2015-11-01</th>\n",
       "      <td>0.588351</td>\n",
       "      <td>0.377191</td>\n",
       "      <td>0.672391</td>\n",
       "    </tr>\n",
       "    <tr>\n",
       "      <th>2015-12-01</th>\n",
       "      <td>0.597730</td>\n",
       "      <td>0.325460</td>\n",
       "      <td>0.684883</td>\n",
       "    </tr>\n",
       "    <tr>\n",
       "      <th>2016-01-01</th>\n",
       "      <td>0.604804</td>\n",
       "      <td>0.265028</td>\n",
       "      <td>0.717946</td>\n",
       "    </tr>\n",
       "  </tbody>\n",
       "</table>\n",
       "</div>"
      ],
      "text/plain": [
       "            PMVGas.Norm  VBar.Norm  VU$.Norm\n",
       "Período                                     \n",
       "2015-01-01     0.498848   0.415968  0.466182\n",
       "2015-02-01     0.543106   0.458796  0.493206\n",
       "2015-03-01     0.546726   0.461162  0.543423\n",
       "2015-04-01     0.544258   0.484942  0.536484\n",
       "2015-05-01     0.542777   0.524803  0.544430\n",
       "2015-06-01     0.543106   0.510486  0.551245\n",
       "2015-07-01     0.542284   0.461082  0.576309\n",
       "2015-08-01     0.542119   0.387176  0.627224\n",
       "2015-09-01     0.539158   0.398805  0.694568\n",
       "2015-10-01     0.572557   0.402855  0.685889\n",
       "2015-11-01     0.588351   0.377191  0.672391\n",
       "2015-12-01     0.597730   0.325460  0.684883\n",
       "2016-01-01     0.604804   0.265028  0.717946"
      ]
     },
     "execution_count": 38,
     "metadata": {},
     "output_type": "execute_result"
    }
   ],
   "source": [
    "frames.loc['2015-01-01':'2016-01-01']"
   ]
  }
 ],
 "metadata": {
  "interpreter": {
   "hash": "42f74353e3a9b5a4cb43330aab4e888bd8c99887f1f7b7373840781ed1656684"
  },
  "kernelspec": {
   "display_name": "Python 3.8.11 64-bit ('rsd': conda)",
   "name": "python3"
  },
  "language_info": {
   "codemirror_mode": {
    "name": "ipython",
    "version": 3
   },
   "file_extension": ".py",
   "mimetype": "text/x-python",
   "name": "python",
   "nbconvert_exporter": "python",
   "pygments_lexer": "ipython3",
   "version": "3.8.11"
  }
 },
 "nbformat": 4,
 "nbformat_minor": 5
}
