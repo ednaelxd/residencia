{
 "cells": [
  {
   "cell_type": "code",
   "execution_count": 1,
   "metadata": {},
   "outputs": [],
   "source": [
    "import pandas as pd\n",
    "import numpy as np\n",
    "import matplotlib as mth"
   ]
  },
  {
   "cell_type": "code",
   "execution_count": 55,
   "metadata": {},
   "outputs": [],
   "source": [
    "dollar=pd.read_excel(\"./datas/dolarBRL2011.2021.xlsx\")\n",
    "barril=pd.read_excel(\"./datas/petroleo.2011.2021.xlsx\")\n",
    "\n",
    "dollar['V.Médio']=(dollar['Máxima']+dollar['Mínima'])/2\n",
    "dollar['Data']=pd.to_datetime(dollar['Data'],format='%d/%m/%Y')\n",
    "dollar.sort_values('Data',inplace=True)\n",
    "dollar.set_index('Data',inplace=True)\n",
    "dollar.rename_axis('Período',inplace=True)\n",
    "\n",
    "barril['V.Médio']=(barril['Máxima']+barril['Mínima'])/2\n",
    "barril['Data']=pd.to_datetime(barril['Data'],format='%d/%m/%Y')\n",
    "barril.sort_values('Data',inplace=True)\n",
    "barril.set_index('Data',inplace=True)\n",
    "barril.rename_axis('Período',inplace=True)\n",
    "\n",
    "dollar['VUS.Norm']=dollar['V.Médio']/dollar['V.Médio'].max()\n",
    "barril['VBar.Norm']=barril['V.Médio']/barril['V.Médio'].max()"
   ]
  },
  {
   "cell_type": "code",
   "execution_count": 2,
   "metadata": {},
   "outputs": [
    {
     "name": "stderr",
     "output_type": "stream",
     "text": [
      "C:\\Users\\ednae\\anaconda3\\envs\\rsd\\lib\\site-packages\\IPython\\core\\interactiveshell.py:3441: DtypeWarning: Columns (1,3,7,17,18,19) have mixed types.Specify dtype option on import or set low_memory=False.\n",
      "  exec(code_obj, self.user_global_ns, self.user_ns)\n"
     ]
    }
   ],
   "source": [
    "df_gas = pd.read_csv('C:/Users/ednae/Documents/Linguagens/data2/df_gas.csv')\n",
    "df_gas['Data da Coleta']=pd.to_datetime(df_gas['Data da Coleta'],format=\"%d/%m/%Y\")\n",
    "df_gas.sort_values('Data da Coleta',inplace=True)\n",
    "df_gas.set_index('Data da Coleta',drop=False,inplace=True)\n",
    "df_gas.rename_axis('Período',inplace=True)\n",
    "df_gas.drop(['Municipio','Complemento'],axis=1,inplace=True)\n",
    "df_gas.drop(['Bandeira'],axis=1,inplace=True)\n",
    "df_gas.drop(['Município','Cep','Número Rua','Numero Rua','Regiao - Sigla','Região - Sigla'],axis=1,inplace=True)\n",
    "\n",
    "df_gas['ano']=df_gas['Data da Coleta'].dt.year\n",
    "df_gas['mes']=df_gas['Data da Coleta'].dt.month\n",
    "df_gas['dia']=df_gas['Data da Coleta'].dt.day"
   ]
  },
  {
   "cell_type": "markdown",
   "metadata": {},
   "source": [
    "## <b><i> Justificando uso da média, mostrando que o desvio padrão é baixo"
   ]
  },
  {
   "cell_type": "code",
   "execution_count": 4,
   "metadata": {},
   "outputs": [
    {
     "name": "stdout",
     "output_type": "stream",
     "text": [
      "0.4396596627479246 desvio padrão máximo em todas as médias diárias calculadas\n"
     ]
    }
   ],
   "source": [
    "mix_resumo=df_gas.groupby(['ano','mes','dia']).agg({'Valor de Venda':['mean','std','max','min']})\n",
    "print(mix_resumo['Valor de Venda']['std'].max(),'desvio padrão máximo em todas as médias diárias calculadas')"
   ]
  },
  {
   "cell_type": "code",
   "execution_count": 6,
   "metadata": {},
   "outputs": [],
   "source": [
    "df_gas2 = pd.DataFrame(df_gas['Valor de Venda'].resample('D').mean())\n",
    "df_gas2['pct_change']=df_gas2.pct_change()*100\n",
    "dif_med_mensal = df_gas2['pct_change'].resample('M').mean()"
   ]
  },
  {
   "cell_type": "code",
   "execution_count": 143,
   "metadata": {},
   "outputs": [],
   "source": [
    "gas_med_mensal = df_gas['Valor de Venda'].resample('M').mean()"
   ]
  },
  {
   "cell_type": "code",
   "execution_count": 17,
   "metadata": {},
   "outputs": [],
   "source": [
    "aaa=dif_med_mensal.to_frame()"
   ]
  },
  {
   "cell_type": "code",
   "execution_count": 22,
   "metadata": {},
   "outputs": [
    {
     "data": {
      "text/plain": [
       "pandas.core.series.Series"
      ]
     },
     "execution_count": 22,
     "metadata": {},
     "output_type": "execute_result"
    }
   ],
   "source": [
    "type(dollar['pct_change'])"
   ]
  },
  {
   "cell_type": "code",
   "execution_count": 56,
   "metadata": {},
   "outputs": [],
   "source": [
    "barril['pct_change']=barril['V.Médio'].pct_change()*100\n",
    "dollar['pct_change']=dollar['V.Médio'].pct_change()*100"
   ]
  },
  {
   "cell_type": "code",
   "execution_count": 180,
   "metadata": {},
   "outputs": [
    {
     "data": {
      "text/plain": [
       "count    69.000000\n",
       "mean      1.430261\n",
       "std      10.088836\n",
       "min     -31.349387\n",
       "25%      -3.778461\n",
       "50%       2.695999\n",
       "75%       7.244795\n",
       "max      29.545455\n",
       "Name: pct_change, dtype: float64"
      ]
     },
     "execution_count": 180,
     "metadata": {},
     "output_type": "execute_result"
    }
   ],
   "source": [
    "barril.loc['2016':,'pct_change'].describe()"
   ]
  },
  {
   "cell_type": "markdown",
   "metadata": {},
   "source": [
    "# <b> Correlações dos valores brutos"
   ]
  },
  {
   "cell_type": "code",
   "execution_count": 145,
   "metadata": {},
   "outputs": [
    {
     "data": {
      "text/html": [
       "<div>\n",
       "<style scoped>\n",
       "    .dataframe tbody tr th:only-of-type {\n",
       "        vertical-align: middle;\n",
       "    }\n",
       "\n",
       "    .dataframe tbody tr th {\n",
       "        vertical-align: top;\n",
       "    }\n",
       "\n",
       "    .dataframe thead tr th {\n",
       "        text-align: left;\n",
       "    }\n",
       "</style>\n",
       "<table border=\"1\" class=\"dataframe\">\n",
       "  <thead>\n",
       "    <tr>\n",
       "      <th></th>\n",
       "      <th></th>\n",
       "      <th>bar</th>\n",
       "      <th>dol</th>\n",
       "      <th>gas</th>\n",
       "    </tr>\n",
       "    <tr>\n",
       "      <th></th>\n",
       "      <th></th>\n",
       "      <th>mean</th>\n",
       "      <th>mean</th>\n",
       "      <th>mean</th>\n",
       "    </tr>\n",
       "  </thead>\n",
       "  <tbody>\n",
       "    <tr>\n",
       "      <th>bar</th>\n",
       "      <th>mean</th>\n",
       "      <td>1.000000</td>\n",
       "      <td>-0.898977</td>\n",
       "      <td>-0.879464</td>\n",
       "    </tr>\n",
       "    <tr>\n",
       "      <th>dol</th>\n",
       "      <th>mean</th>\n",
       "      <td>-0.898977</td>\n",
       "      <td>1.000000</td>\n",
       "      <td>0.938624</td>\n",
       "    </tr>\n",
       "    <tr>\n",
       "      <th>gas</th>\n",
       "      <th>mean</th>\n",
       "      <td>-0.879464</td>\n",
       "      <td>0.938624</td>\n",
       "      <td>1.000000</td>\n",
       "    </tr>\n",
       "  </tbody>\n",
       "</table>\n",
       "</div>"
      ],
      "text/plain": [
       "               bar       dol       gas\n",
       "              mean      mean      mean\n",
       "bar mean  1.000000 -0.898977 -0.879464\n",
       "dol mean -0.898977  1.000000  0.938624\n",
       "gas mean -0.879464  0.938624  1.000000"
      ]
     },
     "execution_count": 145,
     "metadata": {},
     "output_type": "execute_result"
    }
   ],
   "source": [
    "comp=pd.DataFrame({'bar':barril.loc[:'2015','V.Médio'],'dol':dollar.loc[:'2015','V.Médio'],'gas':gas_med_mensal[:'2015']})\n",
    "comp.reset_index(inplace=True)\n",
    "comp['mes']=comp['Período'].dt.month\n",
    "comp['ano']=comp['Período'].dt.year\n",
    "resum=pd.DataFrame(comp.groupby(['mes','ano']).agg(['mean']))\n",
    "resum.corr()#controle de preço"
   ]
  },
  {
   "cell_type": "code",
   "execution_count": 149,
   "metadata": {},
   "outputs": [
    {
     "data": {
      "text/html": [
       "<div>\n",
       "<style scoped>\n",
       "    .dataframe tbody tr th:only-of-type {\n",
       "        vertical-align: middle;\n",
       "    }\n",
       "\n",
       "    .dataframe tbody tr th {\n",
       "        vertical-align: top;\n",
       "    }\n",
       "\n",
       "    .dataframe thead tr th {\n",
       "        text-align: left;\n",
       "    }\n",
       "</style>\n",
       "<table border=\"1\" class=\"dataframe\">\n",
       "  <thead>\n",
       "    <tr>\n",
       "      <th></th>\n",
       "      <th></th>\n",
       "      <th>bar</th>\n",
       "      <th>dol</th>\n",
       "      <th>gas</th>\n",
       "    </tr>\n",
       "    <tr>\n",
       "      <th></th>\n",
       "      <th></th>\n",
       "      <th>mean</th>\n",
       "      <th>mean</th>\n",
       "      <th>mean</th>\n",
       "    </tr>\n",
       "  </thead>\n",
       "  <tbody>\n",
       "    <tr>\n",
       "      <th>bar</th>\n",
       "      <th>mean</th>\n",
       "      <td>1.000000</td>\n",
       "      <td>-0.131504</td>\n",
       "      <td>0.594711</td>\n",
       "    </tr>\n",
       "    <tr>\n",
       "      <th>dol</th>\n",
       "      <th>mean</th>\n",
       "      <td>-0.131504</td>\n",
       "      <td>1.000000</td>\n",
       "      <td>0.649542</td>\n",
       "    </tr>\n",
       "    <tr>\n",
       "      <th>gas</th>\n",
       "      <th>mean</th>\n",
       "      <td>0.594711</td>\n",
       "      <td>0.649542</td>\n",
       "      <td>1.000000</td>\n",
       "    </tr>\n",
       "  </tbody>\n",
       "</table>\n",
       "</div>"
      ],
      "text/plain": [
       "               bar       dol       gas\n",
       "              mean      mean      mean\n",
       "bar mean  1.000000 -0.131504  0.594711\n",
       "dol mean -0.131504  1.000000  0.649542\n",
       "gas mean  0.594711  0.649542  1.000000"
      ]
     },
     "execution_count": 149,
     "metadata": {},
     "output_type": "execute_result"
    }
   ],
   "source": [
    "comp=pd.DataFrame({'bar':barril.loc['2016':,'V.Médio'],'dol':dollar.loc['2016':,'V.Médio'],'gas':gas_med_mensal['2016':]})\n",
    "comp.reset_index(inplace=True)\n",
    "comp['mes']=comp['Período'].dt.month\n",
    "comp['ano']=comp['Período'].dt.year\n",
    "resum2=pd.DataFrame(comp.groupby(['mes','ano']).agg(['mean']))\n",
    "resum2.corr()#PPI"
   ]
  },
  {
   "cell_type": "code",
   "execution_count": 151,
   "metadata": {},
   "outputs": [],
   "source": [
    "import scipy.stats as sst"
   ]
  },
  {
   "cell_type": "code",
   "execution_count": null,
   "metadata": {},
   "outputs": [],
   "source": [
    "scipy.stats.pearsonr(comp['bar'],comp['gas'])"
   ]
  },
  {
   "cell_type": "markdown",
   "metadata": {},
   "source": [
    "# <b> Correlações das variações mensais"
   ]
  },
  {
   "cell_type": "code",
   "execution_count": 142,
   "metadata": {},
   "outputs": [
    {
     "data": {
      "text/html": [
       "<div>\n",
       "<style scoped>\n",
       "    .dataframe tbody tr th:only-of-type {\n",
       "        vertical-align: middle;\n",
       "    }\n",
       "\n",
       "    .dataframe tbody tr th {\n",
       "        vertical-align: top;\n",
       "    }\n",
       "\n",
       "    .dataframe thead tr th {\n",
       "        text-align: left;\n",
       "    }\n",
       "</style>\n",
       "<table border=\"1\" class=\"dataframe\">\n",
       "  <thead>\n",
       "    <tr>\n",
       "      <th></th>\n",
       "      <th></th>\n",
       "      <th>var_bar</th>\n",
       "      <th>var_dol</th>\n",
       "      <th>var_gas</th>\n",
       "    </tr>\n",
       "    <tr>\n",
       "      <th></th>\n",
       "      <th></th>\n",
       "      <th>mean</th>\n",
       "      <th>mean</th>\n",
       "      <th>mean</th>\n",
       "    </tr>\n",
       "  </thead>\n",
       "  <tbody>\n",
       "    <tr>\n",
       "      <th>var_bar</th>\n",
       "      <th>mean</th>\n",
       "      <td>1.000000</td>\n",
       "      <td>-0.247628</td>\n",
       "      <td>0.131917</td>\n",
       "    </tr>\n",
       "    <tr>\n",
       "      <th>var_dol</th>\n",
       "      <th>mean</th>\n",
       "      <td>-0.247628</td>\n",
       "      <td>1.000000</td>\n",
       "      <td>-0.043486</td>\n",
       "    </tr>\n",
       "    <tr>\n",
       "      <th>var_gas</th>\n",
       "      <th>mean</th>\n",
       "      <td>0.131917</td>\n",
       "      <td>-0.043486</td>\n",
       "      <td>1.000000</td>\n",
       "    </tr>\n",
       "  </tbody>\n",
       "</table>\n",
       "</div>"
      ],
      "text/plain": [
       "               var_bar   var_dol   var_gas\n",
       "                  mean      mean      mean\n",
       "var_bar mean  1.000000 -0.247628  0.131917\n",
       "var_dol mean -0.247628  1.000000 -0.043486\n",
       "var_gas mean  0.131917 -0.043486  1.000000"
      ]
     },
     "execution_count": 142,
     "metadata": {},
     "output_type": "execute_result"
    }
   ],
   "source": [
    "comp=pd.DataFrame({'var_bar':barril.loc[:'2015','pct_change'],'var_dol':dollar.loc[:'2015','pct_change'],'var_gas':dif_med_mensal[:'2015']})\n",
    "comp.reset_index(inplace=True)\n",
    "comp['mes']=comp['Período'].dt.month\n",
    "comp['ano']=comp['Período'].dt.year\n",
    "resum3=pd.DataFrame(comp.groupby(['mes','ano']).agg(['mean']))\n",
    "resum3.corr()#controle de preço"
   ]
  },
  {
   "cell_type": "code",
   "execution_count": 141,
   "metadata": {},
   "outputs": [
    {
     "data": {
      "text/html": [
       "<div>\n",
       "<style scoped>\n",
       "    .dataframe tbody tr th:only-of-type {\n",
       "        vertical-align: middle;\n",
       "    }\n",
       "\n",
       "    .dataframe tbody tr th {\n",
       "        vertical-align: top;\n",
       "    }\n",
       "\n",
       "    .dataframe thead tr th {\n",
       "        text-align: left;\n",
       "    }\n",
       "</style>\n",
       "<table border=\"1\" class=\"dataframe\">\n",
       "  <thead>\n",
       "    <tr>\n",
       "      <th></th>\n",
       "      <th></th>\n",
       "      <th>var_bar</th>\n",
       "      <th>var_dol</th>\n",
       "      <th>var_gas</th>\n",
       "    </tr>\n",
       "    <tr>\n",
       "      <th></th>\n",
       "      <th></th>\n",
       "      <th>mean</th>\n",
       "      <th>mean</th>\n",
       "      <th>mean</th>\n",
       "    </tr>\n",
       "  </thead>\n",
       "  <tbody>\n",
       "    <tr>\n",
       "      <th>var_bar</th>\n",
       "      <th>mean</th>\n",
       "      <td>1.000000</td>\n",
       "      <td>-0.50715</td>\n",
       "      <td>0.505854</td>\n",
       "    </tr>\n",
       "    <tr>\n",
       "      <th>var_dol</th>\n",
       "      <th>mean</th>\n",
       "      <td>-0.507150</td>\n",
       "      <td>1.00000</td>\n",
       "      <td>-0.116790</td>\n",
       "    </tr>\n",
       "    <tr>\n",
       "      <th>var_gas</th>\n",
       "      <th>mean</th>\n",
       "      <td>0.505854</td>\n",
       "      <td>-0.11679</td>\n",
       "      <td>1.000000</td>\n",
       "    </tr>\n",
       "  </tbody>\n",
       "</table>\n",
       "</div>"
      ],
      "text/plain": [
       "               var_bar  var_dol   var_gas\n",
       "                  mean     mean      mean\n",
       "var_bar mean  1.000000 -0.50715  0.505854\n",
       "var_dol mean -0.507150  1.00000 -0.116790\n",
       "var_gas mean  0.505854 -0.11679  1.000000"
      ]
     },
     "execution_count": 141,
     "metadata": {},
     "output_type": "execute_result"
    }
   ],
   "source": [
    "comp=pd.DataFrame({'var_bar':barril.loc['2016':,'pct_change'],'var_dol':dollar.loc['2016':,'pct_change'],'var_gas':dif_med_mensal['2016':]})\n",
    "comp.reset_index(inplace=True)\n",
    "comp['mes']=comp['Período'].dt.month\n",
    "comp['ano']=comp['Período'].dt.year\n",
    "resum4=pd.DataFrame(comp.groupby(['mes','ano']).agg(['mean']))\n",
    "resum4.corr()#PPI"
   ]
  },
  {
   "cell_type": "code",
   "execution_count": 139,
   "metadata": {},
   "outputs": [],
   "source": []
  }
 ],
 "metadata": {
  "interpreter": {
   "hash": "42f74353e3a9b5a4cb43330aab4e888bd8c99887f1f7b7373840781ed1656684"
  },
  "kernelspec": {
   "display_name": "Python 3.8.11 64-bit ('rsd': conda)",
   "name": "python3"
  },
  "language_info": {
   "codemirror_mode": {
    "name": "ipython",
    "version": 3
   },
   "file_extension": ".py",
   "mimetype": "text/x-python",
   "name": "python",
   "nbconvert_exporter": "python",
   "pygments_lexer": "ipython3",
   "version": "3.8.11"
  },
  "orig_nbformat": 4
 },
 "nbformat": 4,
 "nbformat_minor": 2
}
